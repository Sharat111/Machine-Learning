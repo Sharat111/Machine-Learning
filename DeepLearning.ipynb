{
 "cells": [
  {
   "cell_type": "code",
   "execution_count": 80,
   "metadata": {},
   "outputs": [],
   "source": [
    "import numpy as np\n",
    "import keras\n",
    "import pandas as pd\n",
    "import seaborn as sns\n",
    "import matplotlib.pyplot as plt\n",
    "import warnings\n",
    "# calculate accuracy measures and confusion matrix\n",
    "from sklearn import metrics\n",
    "from sklearn.metrics import accuracy_score, confusion_matrix, recall_score, precision_score, f1_score, auc\n",
    "warnings.filterwarnings('ignore')"
   ]
  },
  {
   "cell_type": "code",
   "execution_count": 2,
   "metadata": {},
   "outputs": [
    {
     "name": "stdout",
     "output_type": "stream",
     "text": [
      "2.0.0\n"
     ]
    }
   ],
   "source": [
    "import tensorflow as tf\n",
    "print(tf.__version__)"
   ]
  },
  {
   "cell_type": "markdown",
   "metadata": {},
   "source": [
    "### EDA & Data Preprocessing"
   ]
  },
  {
   "cell_type": "markdown",
   "metadata": {},
   "source": [
    "#### 1. Read the dataset"
   ]
  },
  {
   "cell_type": "code",
   "execution_count": 3,
   "metadata": {},
   "outputs": [],
   "source": [
    "\n",
    "#importing the dataset, set RowNumber as index\n",
    "df = pd.read_csv('bank (1).csv', index_col='RowNumber')"
   ]
  },
  {
   "cell_type": "code",
   "execution_count": 4,
   "metadata": {},
   "outputs": [
    {
     "data": {
      "text/plain": [
       "(10000, 13)"
      ]
     },
     "execution_count": 4,
     "metadata": {},
     "output_type": "execute_result"
    }
   ],
   "source": [
    "df.shape # 10,000 rows, 13 columns"
   ]
  },
  {
   "cell_type": "code",
   "execution_count": 5,
   "metadata": {},
   "outputs": [
    {
     "data": {
      "text/html": [
       "<div>\n",
       "<style scoped>\n",
       "    .dataframe tbody tr th:only-of-type {\n",
       "        vertical-align: middle;\n",
       "    }\n",
       "\n",
       "    .dataframe tbody tr th {\n",
       "        vertical-align: top;\n",
       "    }\n",
       "\n",
       "    .dataframe thead th {\n",
       "        text-align: right;\n",
       "    }\n",
       "</style>\n",
       "<table border=\"1\" class=\"dataframe\">\n",
       "  <thead>\n",
       "    <tr style=\"text-align: right;\">\n",
       "      <th></th>\n",
       "      <th>CustomerId</th>\n",
       "      <th>Surname</th>\n",
       "      <th>CreditScore</th>\n",
       "      <th>Geography</th>\n",
       "      <th>Gender</th>\n",
       "      <th>Age</th>\n",
       "      <th>Tenure</th>\n",
       "      <th>Balance</th>\n",
       "      <th>NumOfProducts</th>\n",
       "      <th>HasCrCard</th>\n",
       "      <th>IsActiveMember</th>\n",
       "      <th>EstimatedSalary</th>\n",
       "      <th>Exited</th>\n",
       "    </tr>\n",
       "    <tr>\n",
       "      <th>RowNumber</th>\n",
       "      <th></th>\n",
       "      <th></th>\n",
       "      <th></th>\n",
       "      <th></th>\n",
       "      <th></th>\n",
       "      <th></th>\n",
       "      <th></th>\n",
       "      <th></th>\n",
       "      <th></th>\n",
       "      <th></th>\n",
       "      <th></th>\n",
       "      <th></th>\n",
       "      <th></th>\n",
       "    </tr>\n",
       "  </thead>\n",
       "  <tbody>\n",
       "    <tr>\n",
       "      <th>1</th>\n",
       "      <td>15634602</td>\n",
       "      <td>Hargrave</td>\n",
       "      <td>619</td>\n",
       "      <td>France</td>\n",
       "      <td>Female</td>\n",
       "      <td>42</td>\n",
       "      <td>2</td>\n",
       "      <td>0.00</td>\n",
       "      <td>1</td>\n",
       "      <td>1</td>\n",
       "      <td>1</td>\n",
       "      <td>101348.88</td>\n",
       "      <td>1</td>\n",
       "    </tr>\n",
       "    <tr>\n",
       "      <th>2</th>\n",
       "      <td>15647311</td>\n",
       "      <td>Hill</td>\n",
       "      <td>608</td>\n",
       "      <td>Spain</td>\n",
       "      <td>Female</td>\n",
       "      <td>41</td>\n",
       "      <td>1</td>\n",
       "      <td>83807.86</td>\n",
       "      <td>1</td>\n",
       "      <td>0</td>\n",
       "      <td>1</td>\n",
       "      <td>112542.58</td>\n",
       "      <td>0</td>\n",
       "    </tr>\n",
       "  </tbody>\n",
       "</table>\n",
       "</div>"
      ],
      "text/plain": [
       "           CustomerId   Surname  CreditScore Geography  Gender  Age  Tenure  \\\n",
       "RowNumber                                                                     \n",
       "1            15634602  Hargrave          619    France  Female   42       2   \n",
       "2            15647311      Hill          608     Spain  Female   41       1   \n",
       "\n",
       "            Balance  NumOfProducts  HasCrCard  IsActiveMember  \\\n",
       "RowNumber                                                       \n",
       "1              0.00              1          1               1   \n",
       "2          83807.86              1          0               1   \n",
       "\n",
       "           EstimatedSalary  Exited  \n",
       "RowNumber                           \n",
       "1                101348.88       1  \n",
       "2                112542.58       0  "
      ]
     },
     "execution_count": 5,
     "metadata": {},
     "output_type": "execute_result"
    }
   ],
   "source": [
    "df.head(2) #Exited is target column"
   ]
  },
  {
   "cell_type": "code",
   "execution_count": 6,
   "metadata": {},
   "outputs": [
    {
     "name": "stdout",
     "output_type": "stream",
     "text": [
      "<class 'pandas.core.frame.DataFrame'>\n",
      "Int64Index: 10000 entries, 1 to 10000\n",
      "Data columns (total 13 columns):\n",
      " #   Column           Non-Null Count  Dtype  \n",
      "---  ------           --------------  -----  \n",
      " 0   CustomerId       10000 non-null  int64  \n",
      " 1   Surname          10000 non-null  object \n",
      " 2   CreditScore      10000 non-null  int64  \n",
      " 3   Geography        10000 non-null  object \n",
      " 4   Gender           10000 non-null  object \n",
      " 5   Age              10000 non-null  int64  \n",
      " 6   Tenure           10000 non-null  int64  \n",
      " 7   Balance          10000 non-null  float64\n",
      " 8   NumOfProducts    10000 non-null  int64  \n",
      " 9   HasCrCard        10000 non-null  int64  \n",
      " 10  IsActiveMember   10000 non-null  int64  \n",
      " 11  EstimatedSalary  10000 non-null  float64\n",
      " 12  Exited           10000 non-null  int64  \n",
      "dtypes: float64(2), int64(8), object(3)\n",
      "memory usage: 1.1+ MB\n"
     ]
    }
   ],
   "source": [
    "#Check datatypes\n",
    "df.info()"
   ]
  },
  {
   "cell_type": "markdown",
   "metadata": {},
   "source": [
    "Surname, Gender and Gepgraphy are Object type"
   ]
  },
  {
   "cell_type": "code",
   "execution_count": 7,
   "metadata": {},
   "outputs": [
    {
     "data": {
      "text/plain": [
       "CustomerId         0\n",
       "Surname            0\n",
       "CreditScore        0\n",
       "Geography          0\n",
       "Gender             0\n",
       "Age                0\n",
       "Tenure             0\n",
       "Balance            0\n",
       "NumOfProducts      0\n",
       "HasCrCard          0\n",
       "IsActiveMember     0\n",
       "EstimatedSalary    0\n",
       "Exited             0\n",
       "dtype: int64"
      ]
     },
     "execution_count": 7,
     "metadata": {},
     "output_type": "execute_result"
    }
   ],
   "source": [
    "#Check for missing values\n",
    "df.isna().sum()"
   ]
  },
  {
   "cell_type": "markdown",
   "metadata": {},
   "source": [
    " There is no missing values"
   ]
  },
  {
   "cell_type": "code",
   "execution_count": 8,
   "metadata": {},
   "outputs": [],
   "source": [
    "#look at distribution of exited and non-exited customers"
   ]
  },
  {
   "cell_type": "code",
   "execution_count": 9,
   "metadata": {},
   "outputs": [
    {
     "data": {
      "text/plain": [
       "<matplotlib.axes._subplots.AxesSubplot at 0x22d1e9a1e08>"
      ]
     },
     "execution_count": 9,
     "metadata": {},
     "output_type": "execute_result"
    },
    {
     "data": {
      "image/png": "[encoded data removed]",
      "text/plain": [
       "<Figure size 432x288 with 1 Axes>"
      ]
     },
     "metadata": {
      "needs_background": "light"
     },
     "output_type": "display_data"
    }
   ],
   "source": [
    "sns.countplot(x=\"Exited\", data=df)"
   ]
  },
  {
   "cell_type": "markdown",
   "metadata": {},
   "source": [
    "Data set has has only around 2000 exited customers and about 8000 Customers are still with Bank- it has bias towards existing customers."
   ]
  },
  {
   "cell_type": "code",
   "execution_count": 10,
   "metadata": {},
   "outputs": [
    {
     "data": {
      "text/plain": [
       "<matplotlib.axes._subplots.AxesSubplot at 0x22d2038fdc8>"
      ]
     },
     "execution_count": 10,
     "metadata": {},
     "output_type": "execute_result"
    },
    {
     "data": {
      "image/png": "[encoded data removed]",
      "text/plain": [
       "<Figure size 432x288 with 1 Axes>"
      ]
     },
     "metadata": {
      "needs_background": "light"
     },
     "output_type": "display_data"
    }
   ],
   "source": [
    "sns.countplot(x=\"Gender\", data=df)"
   ]
  },
  {
   "cell_type": "markdown",
   "metadata": {},
   "source": [
    "Bank has bout 4500 female customers and 5500 male customers"
   ]
  },
  {
   "cell_type": "code",
   "execution_count": 11,
   "metadata": {},
   "outputs": [
    {
     "data": {
      "text/plain": [
       "<matplotlib.axes._subplots.AxesSubplot at 0x22d20699888>"
      ]
     },
     "execution_count": 11,
     "metadata": {},
     "output_type": "execute_result"
    },
    {
     "data": {
      "image/png": "[encoded data removed]",
      "text/plain": [
       "<Figure size 432x288 with 1 Axes>"
      ]
     },
     "metadata": {
      "needs_background": "light"
     },
     "output_type": "display_data"
    }
   ],
   "source": [
    "sns.countplot(x=\"Geography\", data=df)"
   ]
  },
  {
   "cell_type": "markdown",
   "metadata": {},
   "source": [
    "Most of the Customers are from France,  Customers from spain and Genrmany are about half in numbers of France"
   ]
  },
  {
   "cell_type": "code",
   "execution_count": 12,
   "metadata": {},
   "outputs": [
    {
     "data": {
      "text/plain": [
       "<matplotlib.axes._subplots.AxesSubplot at 0x22d206ec648>"
      ]
     },
     "execution_count": 12,
     "metadata": {},
     "output_type": "execute_result"
    },
    {
     "data": {
      "image/png": "[encoded data removed]",
      "text/plain": [
       "<Figure size 432x288 with 1 Axes>"
      ]
     },
     "metadata": {
      "needs_background": "light"
     },
     "output_type": "display_data"
    }
   ],
   "source": [
    " sns.countplot(x=\"Exited\", hue=\"Gender\", data=df)"
   ]
  },
  {
   "cell_type": "markdown",
   "metadata": {},
   "source": [
    "Above plot says that female customers have higher propensity to exit the Bank"
   ]
  },
  {
   "cell_type": "code",
   "execution_count": 13,
   "metadata": {},
   "outputs": [
    {
     "data": {
      "text/plain": [
       "<matplotlib.axes._subplots.AxesSubplot at 0x22d20769c48>"
      ]
     },
     "execution_count": 13,
     "metadata": {},
     "output_type": "execute_result"
    },
    {
     "data": {
      "image/png": "[encoded data removed]",
      "text/plain": [
       "<Figure size 432x288 with 1 Axes>"
      ]
     },
     "metadata": {
      "needs_background": "light"
     },
     "output_type": "display_data"
    }
   ],
   "source": [
    " sns.countplot(x=\"Exited\", hue=\"Geography\", data=df)"
   ]
  },
  {
   "cell_type": "markdown",
   "metadata": {},
   "source": [
    "Customers from Germany have highest propensity to to exit the Bank"
   ]
  },
  {
   "cell_type": "code",
   "execution_count": 14,
   "metadata": {},
   "outputs": [],
   "source": [
    "#Lets Check Distribution of exited/non-exited Customers as per the age"
   ]
  },
  {
   "cell_type": "code",
   "execution_count": 15,
   "metadata": {},
   "outputs": [
    {
     "data": {
      "image/png": "[encoded data removed]",
      "text/plain": [
       "<Figure size 432x288 with 1 Axes>"
      ]
     },
     "metadata": {
      "needs_background": "light"
     },
     "output_type": "display_data"
    }
   ],
   "source": [
    "sns.distplot(df['Age'][df['Exited']==0],color='blue',label='non-exited')\n",
    "sns.distplot(df['Age'][df['Exited']==1],color='red',label='exited')\n",
    "plt.show()\n",
    "\n"
   ]
  },
  {
   "cell_type": "markdown",
   "metadata": {},
   "source": [
    "Age distribution of customers who exited bank is normally distributed while those who stays with bank is right skewed\n",
    "indicating that most of the existing customers of bank are lower than 50 years of age. This may also indicate that\n",
    "old age customers have exited the bank."
   ]
  },
  {
   "cell_type": "markdown",
   "metadata": {},
   "source": [
    "#### 2. Drop the columns which are unique for all users like IDs & 3. Distinguish the feature and target set"
   ]
  },
  {
   "cell_type": "code",
   "execution_count": 36,
   "metadata": {},
   "outputs": [
    {
     "data": {
      "text/plain": [
       "Index(['CustomerId', 'Surname', 'CreditScore', 'Geography', 'Gender', 'Age',\n",
       "       'Tenure', 'Balance', 'NumOfProducts', 'HasCrCard', 'IsActiveMember',\n",
       "       'EstimatedSalary', 'Exited'],\n",
       "      dtype='object')"
      ]
     },
     "execution_count": 36,
     "metadata": {},
     "output_type": "execute_result"
    }
   ],
   "source": [
    "df.columns"
   ]
  },
  {
   "cell_type": "code",
   "execution_count": 37,
   "metadata": {},
   "outputs": [],
   "source": [
    "# Convert data into feature and Target set. Also CustomerId and Surname will not contribute to model building\n",
    "#hence we wil drop these 2 colmns as well\n",
    "X=df.drop(labels=['CustomerId','Surname','Exited'], axis=1) # Feature Set\n",
    "y=df['Exited'] # Target set"
   ]
  },
  {
   "cell_type": "code",
   "execution_count": 38,
   "metadata": {},
   "outputs": [
    {
     "name": "stdout",
     "output_type": "stream",
     "text": [
      "<class 'pandas.core.frame.DataFrame'>\n",
      "Int64Index: 10000 entries, 1 to 10000\n",
      "Data columns (total 10 columns):\n",
      " #   Column           Non-Null Count  Dtype  \n",
      "---  ------           --------------  -----  \n",
      " 0   CreditScore      10000 non-null  int64  \n",
      " 1   Geography        10000 non-null  object \n",
      " 2   Gender           10000 non-null  object \n",
      " 3   Age              10000 non-null  int64  \n",
      " 4   Tenure           10000 non-null  int64  \n",
      " 5   Balance          10000 non-null  float64\n",
      " 6   NumOfProducts    10000 non-null  int64  \n",
      " 7   HasCrCard        10000 non-null  int64  \n",
      " 8   IsActiveMember   10000 non-null  int64  \n",
      " 9   EstimatedSalary  10000 non-null  float64\n",
      "dtypes: float64(2), int64(6), object(2)\n",
      "memory usage: 1.2+ MB\n"
     ]
    }
   ],
   "source": [
    "X.info()"
   ]
  },
  {
   "cell_type": "code",
   "execution_count": 39,
   "metadata": {},
   "outputs": [],
   "source": [
    "# Geography and gender are object type, we will convert this into one hot encoding"
   ]
  },
  {
   "cell_type": "code",
   "execution_count": 40,
   "metadata": {},
   "outputs": [],
   "source": [
    "X= pd.get_dummies(X)"
   ]
  },
  {
   "cell_type": "code",
   "execution_count": 41,
   "metadata": {},
   "outputs": [
    {
     "name": "stdout",
     "output_type": "stream",
     "text": [
      "<class 'pandas.core.frame.DataFrame'>\n",
      "Int64Index: 10000 entries, 1 to 10000\n",
      "Data columns (total 13 columns):\n",
      " #   Column             Non-Null Count  Dtype  \n",
      "---  ------             --------------  -----  \n",
      " 0   CreditScore        10000 non-null  int64  \n",
      " 1   Age                10000 non-null  int64  \n",
      " 2   Tenure             10000 non-null  int64  \n",
      " 3   Balance            10000 non-null  float64\n",
      " 4   NumOfProducts      10000 non-null  int64  \n",
      " 5   HasCrCard          10000 non-null  int64  \n",
      " 6   IsActiveMember     10000 non-null  int64  \n",
      " 7   EstimatedSalary    10000 non-null  float64\n",
      " 8   Geography_France   10000 non-null  uint8  \n",
      " 9   Geography_Germany  10000 non-null  uint8  \n",
      " 10  Geography_Spain    10000 non-null  uint8  \n",
      " 11  Gender_Female      10000 non-null  uint8  \n",
      " 12  Gender_Male        10000 non-null  uint8  \n",
      "dtypes: float64(2), int64(6), uint8(5)\n",
      "memory usage: 1.0 MB\n"
     ]
    }
   ],
   "source": [
    "X.info()"
   ]
  },
  {
   "cell_type": "markdown",
   "metadata": {},
   "source": [
    "Object columns- Geography and Genders have been converted to one hot encoded columns"
   ]
  },
  {
   "cell_type": "code",
   "execution_count": 42,
   "metadata": {},
   "outputs": [],
   "source": [
    "#Lets Check first few rows of feature set"
   ]
  },
  {
   "cell_type": "code",
   "execution_count": 44,
   "metadata": {},
   "outputs": [
    {
     "data": {
      "text/html": [
       "<div>\n",
       "<style scoped>\n",
       "    .dataframe tbody tr th:only-of-type {\n",
       "        vertical-align: middle;\n",
       "    }\n",
       "\n",
       "    .dataframe tbody tr th {\n",
       "        vertical-align: top;\n",
       "    }\n",
       "\n",
       "    .dataframe thead th {\n",
       "        text-align: right;\n",
       "    }\n",
       "</style>\n",
       "<table border=\"1\" class=\"dataframe\">\n",
       "  <thead>\n",
       "    <tr style=\"text-align: right;\">\n",
       "      <th></th>\n",
       "      <th>CreditScore</th>\n",
       "      <th>Age</th>\n",
       "      <th>Tenure</th>\n",
       "      <th>Balance</th>\n",
       "      <th>NumOfProducts</th>\n",
       "      <th>HasCrCard</th>\n",
       "      <th>IsActiveMember</th>\n",
       "      <th>EstimatedSalary</th>\n",
       "      <th>Geography_France</th>\n",
       "      <th>Geography_Germany</th>\n",
       "      <th>Geography_Spain</th>\n",
       "      <th>Gender_Female</th>\n",
       "      <th>Gender_Male</th>\n",
       "    </tr>\n",
       "    <tr>\n",
       "      <th>RowNumber</th>\n",
       "      <th></th>\n",
       "      <th></th>\n",
       "      <th></th>\n",
       "      <th></th>\n",
       "      <th></th>\n",
       "      <th></th>\n",
       "      <th></th>\n",
       "      <th></th>\n",
       "      <th></th>\n",
       "      <th></th>\n",
       "      <th></th>\n",
       "      <th></th>\n",
       "      <th></th>\n",
       "    </tr>\n",
       "  </thead>\n",
       "  <tbody>\n",
       "    <tr>\n",
       "      <th>1</th>\n",
       "      <td>619</td>\n",
       "      <td>42</td>\n",
       "      <td>2</td>\n",
       "      <td>0.00</td>\n",
       "      <td>1</td>\n",
       "      <td>1</td>\n",
       "      <td>1</td>\n",
       "      <td>101348.88</td>\n",
       "      <td>1</td>\n",
       "      <td>0</td>\n",
       "      <td>0</td>\n",
       "      <td>1</td>\n",
       "      <td>0</td>\n",
       "    </tr>\n",
       "    <tr>\n",
       "      <th>2</th>\n",
       "      <td>608</td>\n",
       "      <td>41</td>\n",
       "      <td>1</td>\n",
       "      <td>83807.86</td>\n",
       "      <td>1</td>\n",
       "      <td>0</td>\n",
       "      <td>1</td>\n",
       "      <td>112542.58</td>\n",
       "      <td>0</td>\n",
       "      <td>0</td>\n",
       "      <td>1</td>\n",
       "      <td>1</td>\n",
       "      <td>0</td>\n",
       "    </tr>\n",
       "    <tr>\n",
       "      <th>3</th>\n",
       "      <td>502</td>\n",
       "      <td>42</td>\n",
       "      <td>8</td>\n",
       "      <td>159660.80</td>\n",
       "      <td>3</td>\n",
       "      <td>1</td>\n",
       "      <td>0</td>\n",
       "      <td>113931.57</td>\n",
       "      <td>1</td>\n",
       "      <td>0</td>\n",
       "      <td>0</td>\n",
       "      <td>1</td>\n",
       "      <td>0</td>\n",
       "    </tr>\n",
       "    <tr>\n",
       "      <th>4</th>\n",
       "      <td>699</td>\n",
       "      <td>39</td>\n",
       "      <td>1</td>\n",
       "      <td>0.00</td>\n",
       "      <td>2</td>\n",
       "      <td>0</td>\n",
       "      <td>0</td>\n",
       "      <td>93826.63</td>\n",
       "      <td>1</td>\n",
       "      <td>0</td>\n",
       "      <td>0</td>\n",
       "      <td>1</td>\n",
       "      <td>0</td>\n",
       "    </tr>\n",
       "    <tr>\n",
       "      <th>5</th>\n",
       "      <td>850</td>\n",
       "      <td>43</td>\n",
       "      <td>2</td>\n",
       "      <td>125510.82</td>\n",
       "      <td>1</td>\n",
       "      <td>1</td>\n",
       "      <td>1</td>\n",
       "      <td>79084.10</td>\n",
       "      <td>0</td>\n",
       "      <td>0</td>\n",
       "      <td>1</td>\n",
       "      <td>1</td>\n",
       "      <td>0</td>\n",
       "    </tr>\n",
       "  </tbody>\n",
       "</table>\n",
       "</div>"
      ],
      "text/plain": [
       "           CreditScore  Age  Tenure    Balance  NumOfProducts  HasCrCard  \\\n",
       "RowNumber                                                                  \n",
       "1                  619   42       2       0.00              1          1   \n",
       "2                  608   41       1   83807.86              1          0   \n",
       "3                  502   42       8  159660.80              3          1   \n",
       "4                  699   39       1       0.00              2          0   \n",
       "5                  850   43       2  125510.82              1          1   \n",
       "\n",
       "           IsActiveMember  EstimatedSalary  Geography_France  \\\n",
       "RowNumber                                                      \n",
       "1                       1        101348.88                 1   \n",
       "2                       1        112542.58                 0   \n",
       "3                       0        113931.57                 1   \n",
       "4                       0         93826.63                 1   \n",
       "5                       1         79084.10                 0   \n",
       "\n",
       "           Geography_Germany  Geography_Spain  Gender_Female  Gender_Male  \n",
       "RowNumber                                                                  \n",
       "1                          0                0              1            0  \n",
       "2                          0                1              1            0  \n",
       "3                          0                0              1            0  \n",
       "4                          0                0              1            0  \n",
       "5                          0                1              1            0  "
      ]
     },
     "execution_count": 44,
     "metadata": {},
     "output_type": "execute_result"
    }
   ],
   "source": [
    "X.head()"
   ]
  },
  {
   "cell_type": "markdown",
   "metadata": {},
   "source": [
    "#### 4. Divide the data set into training and test sets"
   ]
  },
  {
   "cell_type": "code",
   "execution_count": 45,
   "metadata": {},
   "outputs": [],
   "source": [
    "from sklearn.model_selection import train_test_split\n",
    "#test train split\n",
    "test_size = 0.30 # taking 70:30 training and test set\n",
    "seed = 7  # Random numbmer seeding for reapeatability of the code\n",
    "X_train, X_test, y_train, y_test = train_test_split(X, y, test_size=test_size, random_state=seed)"
   ]
  },
  {
   "cell_type": "code",
   "execution_count": 46,
   "metadata": {},
   "outputs": [
    {
     "data": {
      "text/plain": [
       "((7000, 13), (3000, 13), (7000,), (3000,))"
      ]
     },
     "execution_count": 46,
     "metadata": {},
     "output_type": "execute_result"
    }
   ],
   "source": [
    "#hCheck Shape of test/trainset\n",
    "X_train.shape, X_test.shape, y_train.shape, y_test.shape"
   ]
  },
  {
   "cell_type": "markdown",
   "metadata": {},
   "source": [
    "#### 5. Normalize the train and test data \n",
    "\n",
    "a)Normalise Following features using standard scaler: CreditScore,Age, tenure,Balance,NumOfProducts,EstimatedSalary as these  have running/continuous values\n",
    "\n",
    "b)We will not normalise following features as they have discrete values either 0 or 1: HasCrCard,IsActiveMember,Geography_France,Geography_Germany,Geography_Spain,Gender_Female,Gender_Male\n"
   ]
  },
  {
   "cell_type": "code",
   "execution_count": 47,
   "metadata": {},
   "outputs": [],
   "source": [
    "from sklearn.preprocessing import StandardScaler\n",
    "scaler=StandardScaler()"
   ]
  },
  {
   "cell_type": "code",
   "execution_count": 153,
   "metadata": {},
   "outputs": [
    {
     "data": {
      "text/html": [
       "<div>\n",
       "<style scoped>\n",
       "    .dataframe tbody tr th:only-of-type {\n",
       "        vertical-align: middle;\n",
       "    }\n",
       "\n",
       "    .dataframe tbody tr th {\n",
       "        vertical-align: top;\n",
       "    }\n",
       "\n",
       "    .dataframe thead th {\n",
       "        text-align: right;\n",
       "    }\n",
       "</style>\n",
       "<table border=\"1\" class=\"dataframe\">\n",
       "  <thead>\n",
       "    <tr style=\"text-align: right;\">\n",
       "      <th></th>\n",
       "      <th>CreditScore</th>\n",
       "      <th>Age</th>\n",
       "      <th>Tenure</th>\n",
       "      <th>Balance</th>\n",
       "      <th>NumOfProducts</th>\n",
       "      <th>EstimatedSalary</th>\n",
       "    </tr>\n",
       "    <tr>\n",
       "      <th>RowNumber</th>\n",
       "      <th></th>\n",
       "      <th></th>\n",
       "      <th></th>\n",
       "      <th></th>\n",
       "      <th></th>\n",
       "      <th></th>\n",
       "    </tr>\n",
       "  </thead>\n",
       "  <tbody>\n",
       "    <tr>\n",
       "      <th>2318</th>\n",
       "      <td>630</td>\n",
       "      <td>36</td>\n",
       "      <td>2</td>\n",
       "      <td>110414.48</td>\n",
       "      <td>1</td>\n",
       "      <td>48984.95</td>\n",
       "    </tr>\n",
       "    <tr>\n",
       "      <th>260</th>\n",
       "      <td>850</td>\n",
       "      <td>38</td>\n",
       "      <td>3</td>\n",
       "      <td>54901.01</td>\n",
       "      <td>1</td>\n",
       "      <td>140075.55</td>\n",
       "    </tr>\n",
       "  </tbody>\n",
       "</table>\n",
       "</div>"
      ],
      "text/plain": [
       "           CreditScore  Age  Tenure    Balance  NumOfProducts  EstimatedSalary\n",
       "RowNumber                                                                     \n",
       "2318               630   36       2  110414.48              1         48984.95\n",
       "260                850   38       3   54901.01              1        140075.55"
      ]
     },
     "execution_count": 153,
     "metadata": {},
     "output_type": "execute_result"
    }
   ],
   "source": [
    "X_train[['CreditScore','Age','Tenure','Balance','NumOfProducts','EstimatedSalary']].head(2)"
   ]
  },
  {
   "cell_type": "code",
   "execution_count": 48,
   "metadata": {},
   "outputs": [
    {
     "data": {
      "text/html": [
       "<div>\n",
       "<style scoped>\n",
       "    .dataframe tbody tr th:only-of-type {\n",
       "        vertical-align: middle;\n",
       "    }\n",
       "\n",
       "    .dataframe tbody tr th {\n",
       "        vertical-align: top;\n",
       "    }\n",
       "\n",
       "    .dataframe thead th {\n",
       "        text-align: right;\n",
       "    }\n",
       "</style>\n",
       "<table border=\"1\" class=\"dataframe\">\n",
       "  <thead>\n",
       "    <tr style=\"text-align: right;\">\n",
       "      <th></th>\n",
       "      <th>CreditScore</th>\n",
       "      <th>Age</th>\n",
       "      <th>Tenure</th>\n",
       "      <th>Balance</th>\n",
       "      <th>NumOfProducts</th>\n",
       "      <th>HasCrCard</th>\n",
       "      <th>IsActiveMember</th>\n",
       "      <th>EstimatedSalary</th>\n",
       "      <th>Geography_France</th>\n",
       "      <th>Geography_Germany</th>\n",
       "      <th>Geography_Spain</th>\n",
       "      <th>Gender_Female</th>\n",
       "      <th>Gender_Male</th>\n",
       "    </tr>\n",
       "    <tr>\n",
       "      <th>RowNumber</th>\n",
       "      <th></th>\n",
       "      <th></th>\n",
       "      <th></th>\n",
       "      <th></th>\n",
       "      <th></th>\n",
       "      <th></th>\n",
       "      <th></th>\n",
       "      <th></th>\n",
       "      <th></th>\n",
       "      <th></th>\n",
       "      <th></th>\n",
       "      <th></th>\n",
       "      <th></th>\n",
       "    </tr>\n",
       "  </thead>\n",
       "  <tbody>\n",
       "    <tr>\n",
       "      <th>2318</th>\n",
       "      <td>630</td>\n",
       "      <td>36</td>\n",
       "      <td>2</td>\n",
       "      <td>110414.48</td>\n",
       "      <td>1</td>\n",
       "      <td>1</td>\n",
       "      <td>1</td>\n",
       "      <td>48984.95</td>\n",
       "      <td>1</td>\n",
       "      <td>0</td>\n",
       "      <td>0</td>\n",
       "      <td>1</td>\n",
       "      <td>0</td>\n",
       "    </tr>\n",
       "    <tr>\n",
       "      <th>260</th>\n",
       "      <td>850</td>\n",
       "      <td>38</td>\n",
       "      <td>3</td>\n",
       "      <td>54901.01</td>\n",
       "      <td>1</td>\n",
       "      <td>1</td>\n",
       "      <td>1</td>\n",
       "      <td>140075.55</td>\n",
       "      <td>0</td>\n",
       "      <td>1</td>\n",
       "      <td>0</td>\n",
       "      <td>0</td>\n",
       "      <td>1</td>\n",
       "    </tr>\n",
       "  </tbody>\n",
       "</table>\n",
       "</div>"
      ],
      "text/plain": [
       "           CreditScore  Age  Tenure    Balance  NumOfProducts  HasCrCard  \\\n",
       "RowNumber                                                                  \n",
       "2318               630   36       2  110414.48              1          1   \n",
       "260                850   38       3   54901.01              1          1   \n",
       "\n",
       "           IsActiveMember  EstimatedSalary  Geography_France  \\\n",
       "RowNumber                                                      \n",
       "2318                    1         48984.95                 1   \n",
       "260                     1        140075.55                 0   \n",
       "\n",
       "           Geography_Germany  Geography_Spain  Gender_Female  Gender_Male  \n",
       "RowNumber                                                                  \n",
       "2318                       0                0              1            0  \n",
       "260                        1                0              0            1  "
      ]
     },
     "execution_count": 48,
     "metadata": {},
     "output_type": "execute_result"
    }
   ],
   "source": [
    "X_train.head(2)"
   ]
  },
  {
   "cell_type": "code",
   "execution_count": 49,
   "metadata": {},
   "outputs": [
    {
     "data": {
      "text/plain": [
       "StandardScaler(copy=True, with_mean=True, with_std=True)"
      ]
     },
     "execution_count": 49,
     "metadata": {},
     "output_type": "execute_result"
    }
   ],
   "source": [
    "scaler.fit(X_train[['CreditScore','Age','Tenure','Balance','NumOfProducts','EstimatedSalary']])"
   ]
  },
  {
   "cell_type": "code",
   "execution_count": 50,
   "metadata": {},
   "outputs": [],
   "source": [
    "X_train_scaled=scaler.transform(X_train[['CreditScore','Age','Tenure','Balance','NumOfProducts','EstimatedSalary']])"
   ]
  },
  {
   "cell_type": "code",
   "execution_count": 55,
   "metadata": {},
   "outputs": [],
   "source": [
    "# Transform test set on the same fit as train set\n",
    "X_test_scaled=scaler.transform(X_test[['CreditScore','Age','Tenure','Balance','NumOfProducts','EstimatedSalary']])"
   ]
  },
  {
   "cell_type": "markdown",
   "metadata": {},
   "source": [
    "##### Following step puts back scaled data into the dataframe for the columns which  have been scaled while keeping other data intact"
   ]
  },
  {
   "cell_type": "code",
   "execution_count": 58,
   "metadata": {},
   "outputs": [],
   "source": [
    "# Put back scaled data into the dataframe for the columns which  have been scaled while keeping other data intact\n",
    "X_train[['CreditScore','Age','Tenure','Balance','NumOfProducts','EstimatedSalary']]=X_train_scaled"
   ]
  },
  {
   "cell_type": "code",
   "execution_count": 61,
   "metadata": {},
   "outputs": [
    {
     "data": {
      "text/html": [
       "<div>\n",
       "<style scoped>\n",
       "    .dataframe tbody tr th:only-of-type {\n",
       "        vertical-align: middle;\n",
       "    }\n",
       "\n",
       "    .dataframe tbody tr th {\n",
       "        vertical-align: top;\n",
       "    }\n",
       "\n",
       "    .dataframe thead th {\n",
       "        text-align: right;\n",
       "    }\n",
       "</style>\n",
       "<table border=\"1\" class=\"dataframe\">\n",
       "  <thead>\n",
       "    <tr style=\"text-align: right;\">\n",
       "      <th></th>\n",
       "      <th>CreditScore</th>\n",
       "      <th>Age</th>\n",
       "      <th>Tenure</th>\n",
       "      <th>Balance</th>\n",
       "      <th>NumOfProducts</th>\n",
       "      <th>HasCrCard</th>\n",
       "      <th>IsActiveMember</th>\n",
       "      <th>EstimatedSalary</th>\n",
       "      <th>Geography_France</th>\n",
       "      <th>Geography_Germany</th>\n",
       "      <th>Geography_Spain</th>\n",
       "      <th>Gender_Female</th>\n",
       "      <th>Gender_Male</th>\n",
       "    </tr>\n",
       "    <tr>\n",
       "      <th>RowNumber</th>\n",
       "      <th></th>\n",
       "      <th></th>\n",
       "      <th></th>\n",
       "      <th></th>\n",
       "      <th></th>\n",
       "      <th></th>\n",
       "      <th></th>\n",
       "      <th></th>\n",
       "      <th></th>\n",
       "      <th></th>\n",
       "      <th></th>\n",
       "      <th></th>\n",
       "      <th></th>\n",
       "    </tr>\n",
       "  </thead>\n",
       "  <tbody>\n",
       "    <tr>\n",
       "      <th>2318</th>\n",
       "      <td>-0.212665</td>\n",
       "      <td>-0.275584</td>\n",
       "      <td>-1.044043</td>\n",
       "      <td>0.535759</td>\n",
       "      <td>-0.902887</td>\n",
       "      <td>1</td>\n",
       "      <td>1</td>\n",
       "      <td>-0.885624</td>\n",
       "      <td>1</td>\n",
       "      <td>0</td>\n",
       "      <td>0</td>\n",
       "      <td>1</td>\n",
       "      <td>0</td>\n",
       "    </tr>\n",
       "    <tr>\n",
       "      <th>260</th>\n",
       "      <td>2.072829</td>\n",
       "      <td>-0.085732</td>\n",
       "      <td>-0.699815</td>\n",
       "      <td>-0.354525</td>\n",
       "      <td>-0.902887</td>\n",
       "      <td>1</td>\n",
       "      <td>1</td>\n",
       "      <td>0.690326</td>\n",
       "      <td>0</td>\n",
       "      <td>1</td>\n",
       "      <td>0</td>\n",
       "      <td>0</td>\n",
       "      <td>1</td>\n",
       "    </tr>\n",
       "  </tbody>\n",
       "</table>\n",
       "</div>"
      ],
      "text/plain": [
       "           CreditScore       Age    Tenure   Balance  NumOfProducts  \\\n",
       "RowNumber                                                             \n",
       "2318         -0.212665 -0.275584 -1.044043  0.535759      -0.902887   \n",
       "260           2.072829 -0.085732 -0.699815 -0.354525      -0.902887   \n",
       "\n",
       "           HasCrCard  IsActiveMember  EstimatedSalary  Geography_France  \\\n",
       "RowNumber                                                                 \n",
       "2318               1               1        -0.885624                 1   \n",
       "260                1               1         0.690326                 0   \n",
       "\n",
       "           Geography_Germany  Geography_Spain  Gender_Female  Gender_Male  \n",
       "RowNumber                                                                  \n",
       "2318                       0                0              1            0  \n",
       "260                        1                0              0            1  "
      ]
     },
     "execution_count": 61,
     "metadata": {},
     "output_type": "execute_result"
    }
   ],
   "source": [
    "X_train.head(2)"
   ]
  },
  {
   "cell_type": "code",
   "execution_count": 60,
   "metadata": {},
   "outputs": [],
   "source": [
    "X_test[['CreditScore','Age','Tenure','Balance','NumOfProducts','EstimatedSalary']]=X_test_scaled"
   ]
  },
  {
   "cell_type": "code",
   "execution_count": 62,
   "metadata": {},
   "outputs": [
    {
     "data": {
      "text/html": [
       "<div>\n",
       "<style scoped>\n",
       "    .dataframe tbody tr th:only-of-type {\n",
       "        vertical-align: middle;\n",
       "    }\n",
       "\n",
       "    .dataframe tbody tr th {\n",
       "        vertical-align: top;\n",
       "    }\n",
       "\n",
       "    .dataframe thead th {\n",
       "        text-align: right;\n",
       "    }\n",
       "</style>\n",
       "<table border=\"1\" class=\"dataframe\">\n",
       "  <thead>\n",
       "    <tr style=\"text-align: right;\">\n",
       "      <th></th>\n",
       "      <th>CreditScore</th>\n",
       "      <th>Age</th>\n",
       "      <th>Tenure</th>\n",
       "      <th>Balance</th>\n",
       "      <th>NumOfProducts</th>\n",
       "      <th>HasCrCard</th>\n",
       "      <th>IsActiveMember</th>\n",
       "      <th>EstimatedSalary</th>\n",
       "      <th>Geography_France</th>\n",
       "      <th>Geography_Germany</th>\n",
       "      <th>Geography_Spain</th>\n",
       "      <th>Gender_Female</th>\n",
       "      <th>Gender_Male</th>\n",
       "    </tr>\n",
       "    <tr>\n",
       "      <th>RowNumber</th>\n",
       "      <th></th>\n",
       "      <th></th>\n",
       "      <th></th>\n",
       "      <th></th>\n",
       "      <th></th>\n",
       "      <th></th>\n",
       "      <th></th>\n",
       "      <th></th>\n",
       "      <th></th>\n",
       "      <th></th>\n",
       "      <th></th>\n",
       "      <th></th>\n",
       "      <th></th>\n",
       "    </tr>\n",
       "  </thead>\n",
       "  <tbody>\n",
       "    <tr>\n",
       "      <th>1978</th>\n",
       "      <td>0.691144</td>\n",
       "      <td>-0.370510</td>\n",
       "      <td>-1.388270</td>\n",
       "      <td>-1.234987</td>\n",
       "      <td>2.518064</td>\n",
       "      <td>0</td>\n",
       "      <td>0</td>\n",
       "      <td>1.290574</td>\n",
       "      <td>0</td>\n",
       "      <td>0</td>\n",
       "      <td>1</td>\n",
       "      <td>0</td>\n",
       "      <td>1</td>\n",
       "    </tr>\n",
       "    <tr>\n",
       "      <th>3881</th>\n",
       "      <td>0.275599</td>\n",
       "      <td>3.141754</td>\n",
       "      <td>1.021323</td>\n",
       "      <td>-1.234987</td>\n",
       "      <td>0.807589</td>\n",
       "      <td>1</td>\n",
       "      <td>1</td>\n",
       "      <td>0.924388</td>\n",
       "      <td>1</td>\n",
       "      <td>0</td>\n",
       "      <td>0</td>\n",
       "      <td>1</td>\n",
       "      <td>0</td>\n",
       "    </tr>\n",
       "  </tbody>\n",
       "</table>\n",
       "</div>"
      ],
      "text/plain": [
       "           CreditScore       Age    Tenure   Balance  NumOfProducts  \\\n",
       "RowNumber                                                             \n",
       "1978          0.691144 -0.370510 -1.388270 -1.234987       2.518064   \n",
       "3881          0.275599  3.141754  1.021323 -1.234987       0.807589   \n",
       "\n",
       "           HasCrCard  IsActiveMember  EstimatedSalary  Geography_France  \\\n",
       "RowNumber                                                                 \n",
       "1978               0               0         1.290574                 0   \n",
       "3881               1               1         0.924388                 1   \n",
       "\n",
       "           Geography_Germany  Geography_Spain  Gender_Female  Gender_Male  \n",
       "RowNumber                                                                  \n",
       "1978                       0                1              0            1  \n",
       "3881                       0                0              1            0  "
      ]
     },
     "execution_count": 62,
     "metadata": {},
     "output_type": "execute_result"
    }
   ],
   "source": [
    "X_test.head(2)"
   ]
  },
  {
   "cell_type": "markdown",
   "metadata": {},
   "source": [
    "##### Convert Data into Numpy arrays"
   ]
  },
  {
   "cell_type": "code",
   "execution_count": 63,
   "metadata": {},
   "outputs": [],
   "source": [
    "# Convert Data into Numpy arrays\n",
    "X_train_array=np.array(X_train)\n",
    "X_test_array=np.array(X_test)\n",
    "y_train_array=np.array(y_train)\n",
    "y_test_array=np.array(y_test)"
   ]
  },
  {
   "cell_type": "code",
   "execution_count": 64,
   "metadata": {},
   "outputs": [
    {
     "data": {
      "text/plain": [
       "((7000, 13), (3000, 13), (7000,), (3000,))"
      ]
     },
     "execution_count": 64,
     "metadata": {},
     "output_type": "execute_result"
    }
   ],
   "source": [
    "\n",
    "X_train_array.shape,X_test_array.shape,y_train_array.shape,y_test_array.shape#check shapes of array"
   ]
  },
  {
   "cell_type": "markdown",
   "metadata": {},
   "source": [
    "### MODEL BUILDING"
   ]
  },
  {
   "cell_type": "markdown",
   "metadata": {},
   "source": [
    "#### 6. Initialize & build the model (Basic Model with 2 hidden layers)"
   ]
  },
  {
   "cell_type": "code",
   "execution_count": 106,
   "metadata": {},
   "outputs": [],
   "source": [
    "# Initialize Sequential model\n",
    "model = tf.keras.models.Sequential()\n",
    "\n",
    "\n",
    "# Add Input layer to the model\n",
    "model.add(tf.keras.Input(shape=(13,))) # 13 Features\n",
    "\n",
    "# Batch Normalization Layer\n",
    "model.add(tf.keras.layers.BatchNormalization())\n",
    "\n",
    "# Hidden layers\n",
    "model.add(tf.keras.layers.Dense(13, activation='relu', name='Layer_1'))\n",
    "model.add(tf.keras.layers.Dense(10, activation='relu', name='Layer_2'))\n",
    "\n",
    "#Output layer\n",
    "model.add(tf.keras.layers.Dense(1, activation='sigmoid', name='Output'))\n"
   ]
  },
  {
   "cell_type": "markdown",
   "metadata": {},
   "source": [
    "##### Compile Model"
   ]
  },
  {
   "cell_type": "code",
   "execution_count": 107,
   "metadata": {},
   "outputs": [],
   "source": [
    "model.compile(optimizer='adam', loss='binary_crossentropy', metrics=['accuracy'])"
   ]
  },
  {
   "cell_type": "markdown",
   "metadata": {},
   "source": [
    "##### Summarise Model"
   ]
  },
  {
   "cell_type": "code",
   "execution_count": 108,
   "metadata": {},
   "outputs": [
    {
     "name": "stdout",
     "output_type": "stream",
     "text": [
      "Model: \"sequential_6\"\n",
      "_________________________________________________________________\n",
      "Layer (type)                 Output Shape              Param #   \n",
      "=================================================================\n",
      "batch_normalization_6 (Batch (None, 13)                52        \n",
      "_________________________________________________________________\n",
      "Layer_1 (Dense)              (None, 13)                182       \n",
      "_________________________________________________________________\n",
      "Layer_2 (Dense)              (None, 10)                140       \n",
      "_________________________________________________________________\n",
      "Output (Dense)               (None, 1)                 11        \n",
      "=================================================================\n",
      "Total params: 385\n",
      "Trainable params: 359\n",
      "Non-trainable params: 26\n",
      "_________________________________________________________________\n"
     ]
    }
   ],
   "source": [
    "model.summary()"
   ]
  },
  {
   "cell_type": "markdown",
   "metadata": {},
   "source": [
    "#### Fit Model & Prediction"
   ]
  },
  {
   "cell_type": "code",
   "execution_count": 109,
   "metadata": {},
   "outputs": [
    {
     "name": "stdout",
     "output_type": "stream",
     "text": [
      "Train on 7000 samples, validate on 3000 samples\n",
      "Epoch 1/150\n",
      "7000/7000 [==============================] - 1s 125us/sample - loss: 0.6041 - accuracy: 0.6780 - val_loss: 0.4772 - val_accuracy: 0.7950\n",
      "Epoch 2/150\n",
      "7000/7000 [==============================] - 0s 50us/sample - loss: 0.4546 - accuracy: 0.7937 - val_loss: 0.4288 - val_accuracy: 0.8050\n",
      "Epoch 3/150\n",
      "7000/7000 [==============================] - 0s 50us/sample - loss: 0.4256 - accuracy: 0.8087 - val_loss: 0.4091 - val_accuracy: 0.8243\n",
      "Epoch 4/150\n",
      "7000/7000 [==============================] - ETA: 0s - loss: 0.4083 - accuracy: 0.82 - 0s 53us/sample - loss: 0.4058 - accuracy: 0.8293 - val_loss: 0.3846 - val_accuracy: 0.8407\n",
      "Epoch 5/150\n",
      "7000/7000 [==============================] - 0s 52us/sample - loss: 0.3855 - accuracy: 0.8440 - val_loss: 0.3686 - val_accuracy: 0.8487\n",
      "Epoch 6/150\n",
      "7000/7000 [==============================] - 0s 52us/sample - loss: 0.3735 - accuracy: 0.8456 - val_loss: 0.3580 - val_accuracy: 0.8520\n",
      "Epoch 7/150\n",
      "7000/7000 [==============================] - 0s 53us/sample - loss: 0.3674 - accuracy: 0.8463 - val_loss: 0.3537 - val_accuracy: 0.8530\n",
      "Epoch 8/150\n",
      "7000/7000 [==============================] - 0s 55us/sample - loss: 0.3592 - accuracy: 0.8524 - val_loss: 0.3501 - val_accuracy: 0.8543\n",
      "Epoch 9/150\n",
      "7000/7000 [==============================] - 0s 52us/sample - loss: 0.3606 - accuracy: 0.8494 - val_loss: 0.3483 - val_accuracy: 0.8563\n",
      "Epoch 10/150\n",
      "7000/7000 [==============================] - 0s 52us/sample - loss: 0.3565 - accuracy: 0.8510 - val_loss: 0.3460 - val_accuracy: 0.8563\n",
      "Epoch 11/150\n",
      "7000/7000 [==============================] - 0s 51us/sample - loss: 0.3535 - accuracy: 0.8569 - val_loss: 0.3461 - val_accuracy: 0.8577\n",
      "Epoch 12/150\n",
      "7000/7000 [==============================] - 0s 52us/sample - loss: 0.3533 - accuracy: 0.8550 - val_loss: 0.3443 - val_accuracy: 0.8560\n",
      "Epoch 13/150\n",
      "7000/7000 [==============================] - 0s 51us/sample - loss: 0.3487 - accuracy: 0.8531 - val_loss: 0.3435 - val_accuracy: 0.8570\n",
      "Epoch 14/150\n",
      "7000/7000 [==============================] - 0s 51us/sample - loss: 0.3557 - accuracy: 0.8516 - val_loss: 0.3434 - val_accuracy: 0.8583\n",
      "Epoch 15/150\n",
      "7000/7000 [==============================] - 0s 52us/sample - loss: 0.3527 - accuracy: 0.8561 - val_loss: 0.3422 - val_accuracy: 0.8597\n",
      "Epoch 16/150\n",
      "7000/7000 [==============================] - 0s 52us/sample - loss: 0.3508 - accuracy: 0.8561 - val_loss: 0.3417 - val_accuracy: 0.8573\n",
      "Epoch 17/150\n",
      "7000/7000 [==============================] - 0s 52us/sample - loss: 0.3471 - accuracy: 0.8573 - val_loss: 0.3404 - val_accuracy: 0.8587\n",
      "Epoch 18/150\n",
      "7000/7000 [==============================] - 0s 52us/sample - loss: 0.3513 - accuracy: 0.8537 - val_loss: 0.3415 - val_accuracy: 0.8577\n",
      "Epoch 19/150\n",
      "7000/7000 [==============================] - 0s 65us/sample - loss: 0.3454 - accuracy: 0.8543 - val_loss: 0.3405 - val_accuracy: 0.8580\n",
      "Epoch 20/150\n",
      "7000/7000 [==============================] - 0s 56us/sample - loss: 0.3502 - accuracy: 0.8557 - val_loss: 0.3405 - val_accuracy: 0.8617\n",
      "Epoch 21/150\n",
      "7000/7000 [==============================] - 0s 55us/sample - loss: 0.3460 - accuracy: 0.8571 - val_loss: 0.3409 - val_accuracy: 0.8613\n",
      "Epoch 22/150\n",
      "7000/7000 [==============================] - 0s 57us/sample - loss: 0.3446 - accuracy: 0.8581 - val_loss: 0.3397 - val_accuracy: 0.8583\n",
      "Epoch 23/150\n",
      "7000/7000 [==============================] - 0s 53us/sample - loss: 0.3486 - accuracy: 0.8539 - val_loss: 0.3396 - val_accuracy: 0.8597\n",
      "Epoch 24/150\n",
      "7000/7000 [==============================] - 0s 53us/sample - loss: 0.3457 - accuracy: 0.8599 - val_loss: 0.3391 - val_accuracy: 0.8600\n",
      "Epoch 25/150\n",
      "7000/7000 [==============================] - 0s 51us/sample - loss: 0.3447 - accuracy: 0.8583 - val_loss: 0.3397 - val_accuracy: 0.8607\n",
      "Epoch 26/150\n",
      "7000/7000 [==============================] - 0s 52us/sample - loss: 0.3453 - accuracy: 0.8571 - val_loss: 0.3390 - val_accuracy: 0.8610\n",
      "Epoch 27/150\n",
      "7000/7000 [==============================] - 0s 51us/sample - loss: 0.3461 - accuracy: 0.8571 - val_loss: 0.3389 - val_accuracy: 0.8617\n",
      "Epoch 28/150\n",
      "7000/7000 [==============================] - 0s 52us/sample - loss: 0.3409 - accuracy: 0.8593 - val_loss: 0.3396 - val_accuracy: 0.8603\n",
      "Epoch 29/150\n",
      "7000/7000 [==============================] - 0s 52us/sample - loss: 0.3433 - accuracy: 0.8553 - val_loss: 0.3388 - val_accuracy: 0.8603\n",
      "Epoch 30/150\n",
      "7000/7000 [==============================] - 0s 52us/sample - loss: 0.3459 - accuracy: 0.8557 - val_loss: 0.3390 - val_accuracy: 0.8617\n",
      "Epoch 31/150\n",
      "7000/7000 [==============================] - 0s 52us/sample - loss: 0.3429 - accuracy: 0.8573 - val_loss: 0.3390 - val_accuracy: 0.8620\n",
      "Epoch 32/150\n",
      "7000/7000 [==============================] - 0s 53us/sample - loss: 0.3414 - accuracy: 0.8576 - val_loss: 0.3396 - val_accuracy: 0.8623\n",
      "Epoch 33/150\n",
      "7000/7000 [==============================] - 0s 52us/sample - loss: 0.3401 - accuracy: 0.8577 - val_loss: 0.3411 - val_accuracy: 0.8607\n",
      "Epoch 34/150\n",
      "7000/7000 [==============================] - 0s 51us/sample - loss: 0.3429 - accuracy: 0.8617 - val_loss: 0.3386 - val_accuracy: 0.8613\n",
      "Epoch 35/150\n",
      "7000/7000 [==============================] - ETA: 0s - loss: 0.3410 - accuracy: 0.85 - 0s 52us/sample - loss: 0.3403 - accuracy: 0.8586 - val_loss: 0.3394 - val_accuracy: 0.8597\n",
      "Epoch 36/150\n",
      "7000/7000 [==============================] - 0s 52us/sample - loss: 0.3409 - accuracy: 0.8569 - val_loss: 0.3405 - val_accuracy: 0.8580\n",
      "Epoch 37/150\n",
      "7000/7000 [==============================] - 0s 51us/sample - loss: 0.3412 - accuracy: 0.8600 - val_loss: 0.3398 - val_accuracy: 0.8613\n",
      "Epoch 38/150\n",
      "7000/7000 [==============================] - 0s 56us/sample - loss: 0.3412 - accuracy: 0.8586 - val_loss: 0.3386 - val_accuracy: 0.8620\n",
      "Epoch 39/150\n",
      "7000/7000 [==============================] - 0s 56us/sample - loss: 0.3389 - accuracy: 0.8600 - val_loss: 0.3389 - val_accuracy: 0.8603\n",
      "Epoch 40/150\n",
      "7000/7000 [==============================] - 0s 58us/sample - loss: 0.3366 - accuracy: 0.8583 - val_loss: 0.3387 - val_accuracy: 0.8573\n",
      "Epoch 41/150\n",
      "7000/7000 [==============================] - 0s 52us/sample - loss: 0.3368 - accuracy: 0.8627 - val_loss: 0.3379 - val_accuracy: 0.8590\n",
      "Epoch 42/150\n",
      "7000/7000 [==============================] - 0s 53us/sample - loss: 0.3406 - accuracy: 0.8583 - val_loss: 0.3382 - val_accuracy: 0.8600\n",
      "Epoch 43/150\n",
      "7000/7000 [==============================] - 0s 55us/sample - loss: 0.3395 - accuracy: 0.8624 - val_loss: 0.3385 - val_accuracy: 0.8597\n",
      "Epoch 44/150\n",
      "7000/7000 [==============================] - 0s 54us/sample - loss: 0.3364 - accuracy: 0.8611 - val_loss: 0.3433 - val_accuracy: 0.8570\n",
      "Epoch 45/150\n",
      "7000/7000 [==============================] - 0s 56us/sample - loss: 0.3401 - accuracy: 0.8600 - val_loss: 0.3388 - val_accuracy: 0.8593\n",
      "Epoch 46/150\n",
      "7000/7000 [==============================] - 0s 54us/sample - loss: 0.3386 - accuracy: 0.8603 - val_loss: 0.3379 - val_accuracy: 0.8590\n",
      "Epoch 47/150\n",
      "7000/7000 [==============================] - 0s 54us/sample - loss: 0.3346 - accuracy: 0.8604 - val_loss: 0.3387 - val_accuracy: 0.8607\n",
      "Epoch 48/150\n",
      "7000/7000 [==============================] - 0s 54us/sample - loss: 0.3383 - accuracy: 0.8593 - val_loss: 0.3388 - val_accuracy: 0.8597\n",
      "Epoch 49/150\n",
      "7000/7000 [==============================] - 0s 54us/sample - loss: 0.3392 - accuracy: 0.8576 - val_loss: 0.3388 - val_accuracy: 0.8567\n",
      "Epoch 50/150\n",
      "7000/7000 [==============================] - 0s 52us/sample - loss: 0.3391 - accuracy: 0.8603 - val_loss: 0.3386 - val_accuracy: 0.8593\n",
      "Epoch 51/150\n",
      "7000/7000 [==============================] - 0s 55us/sample - loss: 0.3368 - accuracy: 0.8587 - val_loss: 0.3372 - val_accuracy: 0.8597\n",
      "Epoch 52/150\n",
      "7000/7000 [==============================] - 0s 51us/sample - loss: 0.3345 - accuracy: 0.8620 - val_loss: 0.3379 - val_accuracy: 0.8617\n",
      "Epoch 53/150\n",
      "7000/7000 [==============================] - 0s 52us/sample - loss: 0.3379 - accuracy: 0.8603 - val_loss: 0.3371 - val_accuracy: 0.8627\n",
      "Epoch 54/150\n",
      "7000/7000 [==============================] - 0s 51us/sample - loss: 0.3349 - accuracy: 0.8604 - val_loss: 0.3376 - val_accuracy: 0.8577\n",
      "Epoch 55/150\n",
      "7000/7000 [==============================] - 0s 51us/sample - loss: 0.3361 - accuracy: 0.8589 - val_loss: 0.3372 - val_accuracy: 0.8617\n",
      "Epoch 56/150\n",
      "7000/7000 [==============================] - 0s 51us/sample - loss: 0.3383 - accuracy: 0.8590 - val_loss: 0.3368 - val_accuracy: 0.8597\n",
      "Epoch 57/150\n",
      "7000/7000 [==============================] - 0s 53us/sample - loss: 0.3334 - accuracy: 0.8620 - val_loss: 0.3363 - val_accuracy: 0.8587\n",
      "Epoch 58/150\n",
      "7000/7000 [==============================] - 0s 52us/sample - loss: 0.3373 - accuracy: 0.8600 - val_loss: 0.3370 - val_accuracy: 0.8593\n",
      "Epoch 59/150\n",
      "7000/7000 [==============================] - 0s 53us/sample - loss: 0.3368 - accuracy: 0.8600 - val_loss: 0.3394 - val_accuracy: 0.8577\n",
      "Epoch 60/150\n",
      "7000/7000 [==============================] - 0s 52us/sample - loss: 0.3396 - accuracy: 0.8606 - val_loss: 0.3364 - val_accuracy: 0.8627\n",
      "Epoch 61/150\n",
      "7000/7000 [==============================] - 0s 51us/sample - loss: 0.3366 - accuracy: 0.8633 - val_loss: 0.3377 - val_accuracy: 0.8573\n",
      "Epoch 62/150\n",
      "7000/7000 [==============================] - 0s 51us/sample - loss: 0.3340 - accuracy: 0.8621 - val_loss: 0.3384 - val_accuracy: 0.8573\n",
      "Epoch 63/150\n",
      "7000/7000 [==============================] - 0s 52us/sample - loss: 0.3357 - accuracy: 0.8603 - val_loss: 0.3357 - val_accuracy: 0.8610\n",
      "Epoch 64/150\n",
      "7000/7000 [==============================] - 0s 54us/sample - loss: 0.3330 - accuracy: 0.8607 - val_loss: 0.3364 - val_accuracy: 0.8633\n",
      "Epoch 65/150\n",
      "7000/7000 [==============================] - 0s 53us/sample - loss: 0.3341 - accuracy: 0.8609 - val_loss: 0.3371 - val_accuracy: 0.8567\n",
      "Epoch 66/150\n",
      "7000/7000 [==============================] - 0s 55us/sample - loss: 0.3360 - accuracy: 0.8593 - val_loss: 0.3349 - val_accuracy: 0.8607\n",
      "Epoch 67/150\n",
      "7000/7000 [==============================] - 0s 52us/sample - loss: 0.3360 - accuracy: 0.8604 - val_loss: 0.3350 - val_accuracy: 0.8623\n",
      "Epoch 68/150\n",
      "7000/7000 [==============================] - 0s 53us/sample - loss: 0.3379 - accuracy: 0.8607 - val_loss: 0.3364 - val_accuracy: 0.8580\n",
      "Epoch 69/150\n",
      "7000/7000 [==============================] - 0s 55us/sample - loss: 0.3383 - accuracy: 0.8571 - val_loss: 0.3357 - val_accuracy: 0.8603\n",
      "Epoch 70/150\n",
      "7000/7000 [==============================] - 0s 51us/sample - loss: 0.3318 - accuracy: 0.8606 - val_loss: 0.3373 - val_accuracy: 0.8593\n",
      "Epoch 71/150\n",
      "7000/7000 [==============================] - 0s 51us/sample - loss: 0.3303 - accuracy: 0.8640 - val_loss: 0.3359 - val_accuracy: 0.8593\n",
      "Epoch 72/150\n",
      "7000/7000 [==============================] - 0s 55us/sample - loss: 0.3340 - accuracy: 0.8616 - val_loss: 0.3372 - val_accuracy: 0.8607\n",
      "Epoch 73/150\n",
      "7000/7000 [==============================] - 0s 52us/sample - loss: 0.3356 - accuracy: 0.8574 - val_loss: 0.3369 - val_accuracy: 0.8577\n",
      "Epoch 74/150\n",
      "7000/7000 [==============================] - 0s 53us/sample - loss: 0.3332 - accuracy: 0.8641 - val_loss: 0.3373 - val_accuracy: 0.8627\n",
      "Epoch 75/150\n",
      "7000/7000 [==============================] - 0s 53us/sample - loss: 0.3361 - accuracy: 0.8597 - val_loss: 0.3356 - val_accuracy: 0.8600\n",
      "Epoch 76/150\n",
      "7000/7000 [==============================] - 0s 55us/sample - loss: 0.3349 - accuracy: 0.8594 - val_loss: 0.3358 - val_accuracy: 0.8613\n",
      "Epoch 77/150\n",
      "7000/7000 [==============================] - 0s 55us/sample - loss: 0.3410 - accuracy: 0.8531 - val_loss: 0.3361 - val_accuracy: 0.8597\n",
      "Epoch 78/150\n",
      "7000/7000 [==============================] - 0s 52us/sample - loss: 0.3349 - accuracy: 0.8614 - val_loss: 0.3382 - val_accuracy: 0.8570\n",
      "Epoch 79/150\n",
      "7000/7000 [==============================] - 0s 53us/sample - loss: 0.3297 - accuracy: 0.8631 - val_loss: 0.3370 - val_accuracy: 0.8590\n",
      "Epoch 80/150\n",
      "7000/7000 [==============================] - ETA: 0s - loss: 0.3377 - accuracy: 0.86 - 0s 55us/sample - loss: 0.3368 - accuracy: 0.8637 - val_loss: 0.3355 - val_accuracy: 0.8593\n",
      "Epoch 81/150\n",
      "7000/7000 [==============================] - 0s 54us/sample - loss: 0.3349 - accuracy: 0.8607 - val_loss: 0.3353 - val_accuracy: 0.8603\n",
      "Epoch 82/150\n",
      "7000/7000 [==============================] - 0s 51us/sample - loss: 0.3336 - accuracy: 0.8580 - val_loss: 0.3357 - val_accuracy: 0.8597\n",
      "Epoch 83/150\n",
      "7000/7000 [==============================] - 0s 52us/sample - loss: 0.3392 - accuracy: 0.8597 - val_loss: 0.3378 - val_accuracy: 0.8577\n",
      "Epoch 84/150\n",
      "7000/7000 [==============================] - 0s 51us/sample - loss: 0.3340 - accuracy: 0.8621 - val_loss: 0.3357 - val_accuracy: 0.8587\n",
      "Epoch 85/150\n",
      "7000/7000 [==============================] - 0s 53us/sample - loss: 0.3312 - accuracy: 0.8641 - val_loss: 0.3378 - val_accuracy: 0.8577\n",
      "Epoch 86/150\n",
      "7000/7000 [==============================] - 0s 50us/sample - loss: 0.3344 - accuracy: 0.8603 - val_loss: 0.3360 - val_accuracy: 0.8577\n",
      "Epoch 87/150\n",
      "7000/7000 [==============================] - 0s 54us/sample - loss: 0.3362 - accuracy: 0.8580 - val_loss: 0.3365 - val_accuracy: 0.8607\n",
      "Epoch 88/150\n",
      "7000/7000 [==============================] - 0s 54us/sample - loss: 0.3363 - accuracy: 0.8586 - val_loss: 0.3376 - val_accuracy: 0.8557\n",
      "Epoch 89/150\n",
      "7000/7000 [==============================] - 0s 52us/sample - loss: 0.3350 - accuracy: 0.8601 - val_loss: 0.3369 - val_accuracy: 0.8570\n",
      "Epoch 90/150\n",
      "7000/7000 [==============================] - 0s 53us/sample - loss: 0.3363 - accuracy: 0.8606 - val_loss: 0.3354 - val_accuracy: 0.8610\n",
      "Epoch 91/150\n",
      "7000/7000 [==============================] - 0s 54us/sample - loss: 0.3341 - accuracy: 0.8599 - val_loss: 0.3358 - val_accuracy: 0.8613\n",
      "Epoch 92/150\n",
      "7000/7000 [==============================] - 0s 56us/sample - loss: 0.3301 - accuracy: 0.8673 - val_loss: 0.3359 - val_accuracy: 0.8577\n",
      "Epoch 93/150\n",
      "7000/7000 [==============================] - 0s 51us/sample - loss: 0.3321 - accuracy: 0.8624 - val_loss: 0.3362 - val_accuracy: 0.8613\n",
      "Epoch 94/150\n",
      "7000/7000 [==============================] - 0s 55us/sample - loss: 0.3337 - accuracy: 0.8620 - val_loss: 0.3348 - val_accuracy: 0.8577\n",
      "Epoch 95/150\n",
      "7000/7000 [==============================] - 0s 51us/sample - loss: 0.3355 - accuracy: 0.8590 - val_loss: 0.3357 - val_accuracy: 0.8610\n",
      "Epoch 96/150\n",
      "7000/7000 [==============================] - 0s 52us/sample - loss: 0.3333 - accuracy: 0.8576 - val_loss: 0.3369 - val_accuracy: 0.8597\n",
      "Epoch 97/150\n",
      "7000/7000 [==============================] - 0s 51us/sample - loss: 0.3323 - accuracy: 0.8661 - val_loss: 0.3372 - val_accuracy: 0.8600\n",
      "Epoch 98/150\n",
      "7000/7000 [==============================] - 0s 54us/sample - loss: 0.3327 - accuracy: 0.8623 - val_loss: 0.3403 - val_accuracy: 0.8540\n",
      "Epoch 99/150\n",
      "7000/7000 [==============================] - 0s 50us/sample - loss: 0.3365 - accuracy: 0.8566 - val_loss: 0.3385 - val_accuracy: 0.8580\n",
      "Epoch 100/150\n",
      "7000/7000 [==============================] - 0s 55us/sample - loss: 0.3352 - accuracy: 0.8630 - val_loss: 0.3371 - val_accuracy: 0.8600\n",
      "Epoch 101/150\n",
      "7000/7000 [==============================] - 0s 53us/sample - loss: 0.3327 - accuracy: 0.8620 - val_loss: 0.3370 - val_accuracy: 0.8600\n",
      "Epoch 102/150\n",
      "7000/7000 [==============================] - 0s 53us/sample - loss: 0.3316 - accuracy: 0.8640 - val_loss: 0.3370 - val_accuracy: 0.8593\n",
      "Epoch 103/150\n",
      "7000/7000 [==============================] - 0s 55us/sample - loss: 0.3321 - accuracy: 0.8593 - val_loss: 0.3369 - val_accuracy: 0.8603\n",
      "Epoch 104/150\n",
      "7000/7000 [==============================] - 0s 53us/sample - loss: 0.3329 - accuracy: 0.8643 - val_loss: 0.3360 - val_accuracy: 0.8610\n",
      "Epoch 105/150\n",
      "7000/7000 [==============================] - 0s 57us/sample - loss: 0.3345 - accuracy: 0.8610 - val_loss: 0.3356 - val_accuracy: 0.8627\n",
      "Epoch 106/150\n",
      "7000/7000 [==============================] - 0s 54us/sample - loss: 0.3327 - accuracy: 0.8601 - val_loss: 0.3368 - val_accuracy: 0.8593\n",
      "Epoch 107/150\n",
      "7000/7000 [==============================] - 0s 54us/sample - loss: 0.3323 - accuracy: 0.8607 - val_loss: 0.3356 - val_accuracy: 0.8623\n",
      "Epoch 108/150\n",
      "7000/7000 [==============================] - 0s 54us/sample - loss: 0.3398 - accuracy: 0.8561 - val_loss: 0.3353 - val_accuracy: 0.8620\n",
      "Epoch 109/150\n",
      "7000/7000 [==============================] - 0s 57us/sample - loss: 0.3336 - accuracy: 0.8600 - val_loss: 0.3357 - val_accuracy: 0.8627\n",
      "Epoch 110/150\n",
      "7000/7000 [==============================] - 0s 56us/sample - loss: 0.3308 - accuracy: 0.8634 - val_loss: 0.3361 - val_accuracy: 0.8600\n",
      "Epoch 111/150\n",
      "7000/7000 [==============================] - 0s 54us/sample - loss: 0.3354 - accuracy: 0.8623 - val_loss: 0.3369 - val_accuracy: 0.8603\n",
      "Epoch 112/150\n",
      "7000/7000 [==============================] - 0s 53us/sample - loss: 0.3322 - accuracy: 0.8607 - val_loss: 0.3360 - val_accuracy: 0.8590\n",
      "Epoch 113/150\n",
      "7000/7000 [==============================] - 0s 54us/sample - loss: 0.3326 - accuracy: 0.8621 - val_loss: 0.3356 - val_accuracy: 0.8627\n",
      "Epoch 114/150\n",
      "7000/7000 [==============================] - 0s 58us/sample - loss: 0.3327 - accuracy: 0.8604 - val_loss: 0.3364 - val_accuracy: 0.8577\n",
      "Epoch 115/150\n",
      "7000/7000 [==============================] - 0s 59us/sample - loss: 0.3340 - accuracy: 0.8607 - val_loss: 0.3357 - val_accuracy: 0.8630\n",
      "Epoch 116/150\n",
      "7000/7000 [==============================] - 0s 58us/sample - loss: 0.3312 - accuracy: 0.8593 - val_loss: 0.3367 - val_accuracy: 0.8593\n",
      "Epoch 117/150\n",
      "7000/7000 [==============================] - 0s 55us/sample - loss: 0.3327 - accuracy: 0.8579 - val_loss: 0.3362 - val_accuracy: 0.8610\n",
      "Epoch 118/150\n",
      "7000/7000 [==============================] - 0s 57us/sample - loss: 0.3357 - accuracy: 0.8616 - val_loss: 0.3361 - val_accuracy: 0.8587\n",
      "Epoch 119/150\n",
      "7000/7000 [==============================] - 0s 56us/sample - loss: 0.3334 - accuracy: 0.8601 - val_loss: 0.3362 - val_accuracy: 0.8577\n",
      "Epoch 120/150\n",
      "7000/7000 [==============================] - 0s 53us/sample - loss: 0.3357 - accuracy: 0.8574 - val_loss: 0.3362 - val_accuracy: 0.8577\n",
      "Epoch 121/150\n",
      "7000/7000 [==============================] - 0s 57us/sample - loss: 0.3324 - accuracy: 0.8591 - val_loss: 0.3352 - val_accuracy: 0.8613\n",
      "Epoch 122/150\n",
      "7000/7000 [==============================] - 0s 56us/sample - loss: 0.3346 - accuracy: 0.8609 - val_loss: 0.3359 - val_accuracy: 0.8587\n",
      "Epoch 123/150\n",
      "7000/7000 [==============================] - 0s 56us/sample - loss: 0.3333 - accuracy: 0.8604 - val_loss: 0.3360 - val_accuracy: 0.8597\n",
      "Epoch 124/150\n",
      "7000/7000 [==============================] - 0s 54us/sample - loss: 0.3351 - accuracy: 0.8587 - val_loss: 0.3352 - val_accuracy: 0.8600\n",
      "Epoch 125/150\n",
      "7000/7000 [==============================] - 0s 56us/sample - loss: 0.3361 - accuracy: 0.8593 - val_loss: 0.3351 - val_accuracy: 0.8640\n",
      "Epoch 126/150\n",
      "7000/7000 [==============================] - 0s 56us/sample - loss: 0.3333 - accuracy: 0.8639 - val_loss: 0.3364 - val_accuracy: 0.8600\n",
      "Epoch 127/150\n",
      "7000/7000 [==============================] - 0s 54us/sample - loss: 0.3320 - accuracy: 0.8619 - val_loss: 0.3373 - val_accuracy: 0.8577\n",
      "Epoch 128/150\n",
      "7000/7000 [==============================] - 0s 57us/sample - loss: 0.3352 - accuracy: 0.8607 - val_loss: 0.3392 - val_accuracy: 0.8597\n",
      "Epoch 129/150\n",
      "7000/7000 [==============================] - 0s 57us/sample - loss: 0.3326 - accuracy: 0.8603 - val_loss: 0.3365 - val_accuracy: 0.8623\n",
      "Epoch 130/150\n",
      "7000/7000 [==============================] - 0s 54us/sample - loss: 0.3344 - accuracy: 0.8626 - val_loss: 0.3366 - val_accuracy: 0.8600\n",
      "Epoch 131/150\n",
      "7000/7000 [==============================] - 0s 56us/sample - loss: 0.3275 - accuracy: 0.8629 - val_loss: 0.3356 - val_accuracy: 0.8580\n",
      "Epoch 132/150\n",
      "7000/7000 [==============================] - 0s 56us/sample - loss: 0.3314 - accuracy: 0.8626 - val_loss: 0.3359 - val_accuracy: 0.8593\n",
      "Epoch 133/150\n",
      "7000/7000 [==============================] - 0s 56us/sample - loss: 0.3314 - accuracy: 0.8619 - val_loss: 0.3359 - val_accuracy: 0.8633\n",
      "Epoch 134/150\n",
      "7000/7000 [==============================] - 0s 55us/sample - loss: 0.3307 - accuracy: 0.8606 - val_loss: 0.3364 - val_accuracy: 0.8610\n",
      "Epoch 135/150\n",
      "7000/7000 [==============================] - 0s 57us/sample - loss: 0.3316 - accuracy: 0.8606 - val_loss: 0.3352 - val_accuracy: 0.8603\n",
      "Epoch 136/150\n",
      "7000/7000 [==============================] - 0s 57us/sample - loss: 0.3314 - accuracy: 0.8620 - val_loss: 0.3359 - val_accuracy: 0.8570\n",
      "Epoch 137/150\n",
      "7000/7000 [==============================] - 0s 57us/sample - loss: 0.3345 - accuracy: 0.8620 - val_loss: 0.3363 - val_accuracy: 0.8583\n",
      "Epoch 138/150\n",
      "7000/7000 [==============================] - 0s 54us/sample - loss: 0.3334 - accuracy: 0.8603 - val_loss: 0.3362 - val_accuracy: 0.8643\n",
      "Epoch 139/150\n",
      "7000/7000 [==============================] - 0s 57us/sample - loss: 0.3309 - accuracy: 0.8603 - val_loss: 0.3385 - val_accuracy: 0.8603\n",
      "Epoch 140/150\n",
      "7000/7000 [==============================] - 0s 54us/sample - loss: 0.3336 - accuracy: 0.8601 - val_loss: 0.3362 - val_accuracy: 0.8633\n",
      "Epoch 141/150\n",
      "7000/7000 [==============================] - 0s 53us/sample - loss: 0.3281 - accuracy: 0.8644 - val_loss: 0.3361 - val_accuracy: 0.8657\n",
      "Epoch 142/150\n",
      "7000/7000 [==============================] - 0s 54us/sample - loss: 0.3305 - accuracy: 0.8654 - val_loss: 0.3368 - val_accuracy: 0.8597\n",
      "Epoch 143/150\n",
      "7000/7000 [==============================] - 0s 58us/sample - loss: 0.3321 - accuracy: 0.8636 - val_loss: 0.3362 - val_accuracy: 0.8600\n",
      "Epoch 144/150\n",
      "7000/7000 [==============================] - 0s 53us/sample - loss: 0.3295 - accuracy: 0.8636 - val_loss: 0.3367 - val_accuracy: 0.8617\n",
      "Epoch 145/150\n",
      "7000/7000 [==============================] - 0s 51us/sample - loss: 0.3328 - accuracy: 0.8619 - val_loss: 0.3385 - val_accuracy: 0.8633\n",
      "Epoch 146/150\n",
      "7000/7000 [==============================] - 0s 52us/sample - loss: 0.3325 - accuracy: 0.8620 - val_loss: 0.3378 - val_accuracy: 0.8637\n",
      "Epoch 147/150\n",
      "7000/7000 [==============================] - 0s 53us/sample - loss: 0.3314 - accuracy: 0.8614 - val_loss: 0.3358 - val_accuracy: 0.8603\n",
      "Epoch 148/150\n",
      "7000/7000 [==============================] - 0s 53us/sample - loss: 0.3300 - accuracy: 0.8643 - val_loss: 0.3361 - val_accuracy: 0.8633\n",
      "Epoch 149/150\n",
      "7000/7000 [==============================] - 0s 54us/sample - loss: 0.3272 - accuracy: 0.8637 - val_loss: 0.3391 - val_accuracy: 0.8590\n",
      "Epoch 150/150\n",
      "7000/7000 [==============================] - 0s 56us/sample - loss: 0.3346 - accuracy: 0.8606 - val_loss: 0.3357 - val_accuracy: 0.8600\n"
     ]
    },
    {
     "data": {
      "text/plain": [
       "<tensorflow.python.keras.callbacks.History at 0x22d29339788>"
      ]
     },
     "execution_count": 109,
     "metadata": {},
     "output_type": "execute_result"
    }
   ],
   "source": [
    "model.fit(X_train_array, y_train_array, validation_data=(X_test_array, y_test_array), epochs=150,\n",
    "          batch_size = 32)"
   ]
  },
  {
   "cell_type": "markdown",
   "metadata": {},
   "source": [
    "#### 5.Predict the results using 0.5 as a threshold"
   ]
  },
  {
   "cell_type": "code",
   "execution_count": 110,
   "metadata": {},
   "outputs": [
    {
     "data": {
      "text/plain": [
       "array([[0.46090513],\n",
       "       [0.01634943],\n",
       "       [0.01848349],\n",
       "       [0.6376873 ],\n",
       "       [0.03994632]], dtype=float32)"
      ]
     },
     "execution_count": 110,
     "metadata": {},
     "output_type": "execute_result"
    }
   ],
   "source": [
    "model.predict(X_test_array)[:5] # Observe first 5 probabilities"
   ]
  },
  {
   "cell_type": "code",
   "execution_count": 111,
   "metadata": {},
   "outputs": [],
   "source": [
    "th=0.5 # Threshold\n",
    "y_test_preds = np.where(model.predict(X_test_array) > th, 1, 0)"
   ]
  },
  {
   "cell_type": "code",
   "execution_count": 112,
   "metadata": {},
   "outputs": [
    {
     "data": {
      "text/plain": [
       "array([[0],\n",
       "       [0],\n",
       "       [0],\n",
       "       [1],\n",
       "       [0]])"
      ]
     },
     "execution_count": 112,
     "metadata": {},
     "output_type": "execute_result"
    }
   ],
   "source": [
    "y_test_preds[:5] # Observe First 5 predictions"
   ]
  },
  {
   "cell_type": "markdown",
   "metadata": {},
   "source": [
    "#### Confusion Matrix"
   ]
  },
  {
   "cell_type": "code",
   "execution_count": 113,
   "metadata": {},
   "outputs": [
    {
     "data": {
      "text/plain": [
       "array([[2280,  115],\n",
       "       [ 305,  300]], dtype=int64)"
      ]
     },
     "execution_count": 113,
     "metadata": {},
     "output_type": "execute_result"
    }
   ],
   "source": [
    "# Confusion matrix with optimal Threshold on test set\n",
    "metrics.confusion_matrix(y_test, y_test_preds)"
   ]
  },
  {
   "cell_type": "code",
   "execution_count": 114,
   "metadata": {},
   "outputs": [
    {
     "name": "stdout",
     "output_type": "stream",
     "text": [
      "Test Metrics at 0.5 Threshold with basic DNN model\n",
      "\n",
      "           Basic DNN\n",
      "accuracy    0.860000\n",
      "recall      0.495868\n",
      "precision   0.722892\n",
      "f1_score    0.588235\n"
     ]
    }
   ],
   "source": [
    "print('Test Metrics at 0.5 Threshold with basic DNN model\\n')\n",
    "Test_Metrics_Basic_DNN=pd.DataFrame(data=[accuracy_score(y_test, y_test_preds), \n",
    "                   recall_score(y_test, y_test_preds), \n",
    "                   precision_score(y_test, y_test_preds),\n",
    "                   f1_score(y_test, y_test_preds)], columns=['Basic DNN'],\n",
    "             index=[\"accuracy\", \"recall\", \"precision\", \"f1_score\"])\n",
    "print(Test_Metrics_Basic_DNN)"
   ]
  },
  {
   "cell_type": "markdown",
   "metadata": {},
   "source": [
    "#### Interpretation:\n",
    "####  test set has actually 3000 customers data out of which (300+305=605) have actually churned \n",
    "####   (2289+115=2395) out of 3000 customers in test set have not churned  \n",
    "#### Model has correctly predicted 300/605 customers who have churned\n",
    "#### Model has predicted 2280/2395 Customers who have not churned correctly.\n",
    "#### Recall is poor ,because data set is biased and has less number of records for churned Customers\n",
    "##### Precision – Of all the users that the algorithm predicts will churn, how many of them do actually churn?\n",
    "##### Recall – What percentage of users that end up churning does the algorithm successfully find?\n",
    "#### Both precision and recall are important for evaluating the performance of a churn prediction algorithm. In this case recall is poor, we will try some tuning to get better recall and overall acuracy"
   ]
  },
  {
   "cell_type": "markdown",
   "metadata": {},
   "source": [
    "### MODEL TUNING"
   ]
  },
  {
   "cell_type": "markdown",
   "metadata": {},
   "source": [
    "#### A) With 3 Dense Layer"
   ]
  },
  {
   "cell_type": "code",
   "execution_count": 128,
   "metadata": {},
   "outputs": [],
   "source": [
    "# Initialize Sequential model\n",
    "model = tf.keras.models.Sequential()\n",
    "\n",
    "\n",
    "# Add Input layer to the model\n",
    "model.add(tf.keras.Input(shape=(13,))) # 13 Features\n",
    "\n",
    "# Batch Normalization Layer\n",
    "model.add(tf.keras.layers.BatchNormalization())\n",
    "\n",
    "# Hidden layers\n",
    "model.add(tf.keras.layers.Dense(13, activation='relu', name='Layer_1'))\n",
    "model.add(tf.keras.layers.Dense(13, activation='relu', name='Layer_2'))\n",
    "model.add(tf.keras.layers.Dense(10, activation='relu', name='Layer_3'))\n",
    "#Output layer\n",
    "model.add(tf.keras.layers.Dense(1, activation='sigmoid', name='Output'))"
   ]
  },
  {
   "cell_type": "code",
   "execution_count": 129,
   "metadata": {},
   "outputs": [],
   "source": [
    "model.compile(optimizer='adam', loss='binary_crossentropy', metrics=['accuracy'])"
   ]
  },
  {
   "cell_type": "code",
   "execution_count": 130,
   "metadata": {},
   "outputs": [
    {
     "name": "stdout",
     "output_type": "stream",
     "text": [
      "Train on 7000 samples, validate on 3000 samples\n",
      "Epoch 1/150\n",
      "7000/7000 [==============================] - 2s 321us/sample - loss: 0.5120 - accuracy: 0.7636 - val_loss: 0.4513 - val_accuracy: 0.7977\n",
      "Epoch 2/150\n",
      "7000/7000 [==============================] - 1s 112us/sample - loss: 0.4460 - accuracy: 0.8023 - val_loss: 0.4286 - val_accuracy: 0.8160\n",
      "Epoch 3/150\n",
      "7000/7000 [==============================] - 1s 112us/sample - loss: 0.4291 - accuracy: 0.8140 - val_loss: 0.4145 - val_accuracy: 0.8197\n",
      "Epoch 4/150\n",
      "7000/7000 [==============================] - 1s 113us/sample - loss: 0.4173 - accuracy: 0.8213 - val_loss: 0.4024 - val_accuracy: 0.8270\n",
      "Epoch 5/150\n",
      "7000/7000 [==============================] - 1s 112us/sample - loss: 0.4028 - accuracy: 0.8280 - val_loss: 0.3855 - val_accuracy: 0.8413\n",
      "Epoch 6/150\n",
      "7000/7000 [==============================] - 1s 112us/sample - loss: 0.3833 - accuracy: 0.8456 - val_loss: 0.3644 - val_accuracy: 0.8517\n",
      "Epoch 7/150\n",
      "7000/7000 [==============================] - 1s 114us/sample - loss: 0.3699 - accuracy: 0.8483 - val_loss: 0.3590 - val_accuracy: 0.8553\n",
      "Epoch 8/150\n",
      "7000/7000 [==============================] - 1s 112us/sample - loss: 0.3621 - accuracy: 0.8494 - val_loss: 0.3508 - val_accuracy: 0.8580\n",
      "Epoch 9/150\n",
      "7000/7000 [==============================] - 1s 110us/sample - loss: 0.3554 - accuracy: 0.8550 - val_loss: 0.3476 - val_accuracy: 0.8567\n",
      "Epoch 10/150\n",
      "7000/7000 [==============================] - 1s 112us/sample - loss: 0.3589 - accuracy: 0.8516 - val_loss: 0.3456 - val_accuracy: 0.8587\n",
      "Epoch 11/150\n",
      "7000/7000 [==============================] - 1s 117us/sample - loss: 0.3566 - accuracy: 0.8521 - val_loss: 0.3461 - val_accuracy: 0.8577\n",
      "Epoch 12/150\n",
      "7000/7000 [==============================] - 1s 115us/sample - loss: 0.3556 - accuracy: 0.8549 - val_loss: 0.3440 - val_accuracy: 0.8607\n",
      "Epoch 13/150\n",
      "7000/7000 [==============================] - 1s 121us/sample - loss: 0.3481 - accuracy: 0.8549 - val_loss: 0.3441 - val_accuracy: 0.8603\n",
      "Epoch 14/150\n",
      "7000/7000 [==============================] - 1s 118us/sample - loss: 0.3490 - accuracy: 0.8526 - val_loss: 0.3471 - val_accuracy: 0.8583\n",
      "Epoch 15/150\n",
      "7000/7000 [==============================] - 1s 115us/sample - loss: 0.3474 - accuracy: 0.8551 - val_loss: 0.3433 - val_accuracy: 0.8587\n",
      "Epoch 16/150\n",
      "7000/7000 [==============================] - 1s 113us/sample - loss: 0.3504 - accuracy: 0.8537 - val_loss: 0.3418 - val_accuracy: 0.8590\n",
      "Epoch 17/150\n",
      "7000/7000 [==============================] - 1s 114us/sample - loss: 0.3523 - accuracy: 0.8563 - val_loss: 0.3421 - val_accuracy: 0.8583\n",
      "Epoch 18/150\n",
      "7000/7000 [==============================] - 1s 114us/sample - loss: 0.3545 - accuracy: 0.8504 - val_loss: 0.3420 - val_accuracy: 0.8580\n",
      "Epoch 19/150\n",
      "7000/7000 [==============================] - 1s 121us/sample - loss: 0.3468 - accuracy: 0.8557 - val_loss: 0.3430 - val_accuracy: 0.8603\n",
      "Epoch 20/150\n",
      "7000/7000 [==============================] - 1s 116us/sample - loss: 0.3449 - accuracy: 0.8589 - val_loss: 0.3419 - val_accuracy: 0.8583\n",
      "Epoch 21/150\n",
      "7000/7000 [==============================] - 1s 114us/sample - loss: 0.3481 - accuracy: 0.8564 - val_loss: 0.3416 - val_accuracy: 0.8607\n",
      "Epoch 22/150\n",
      "7000/7000 [==============================] - 1s 118us/sample - loss: 0.3465 - accuracy: 0.8571 - val_loss: 0.3424 - val_accuracy: 0.8597\n",
      "Epoch 23/150\n",
      "7000/7000 [==============================] - 1s 114us/sample - loss: 0.3458 - accuracy: 0.8569 - val_loss: 0.3409 - val_accuracy: 0.8590\n",
      "Epoch 24/150\n",
      "7000/7000 [==============================] - 1s 111us/sample - loss: 0.3461 - accuracy: 0.8567 - val_loss: 0.3422 - val_accuracy: 0.8580\n",
      "Epoch 25/150\n",
      "7000/7000 [==============================] - 1s 113us/sample - loss: 0.3479 - accuracy: 0.8557 - val_loss: 0.3419 - val_accuracy: 0.8610\n",
      "Epoch 26/150\n",
      "7000/7000 [==============================] - 1s 114us/sample - loss: 0.3441 - accuracy: 0.8590 - val_loss: 0.3411 - val_accuracy: 0.8603\n",
      "Epoch 27/150\n",
      "7000/7000 [==============================] - 1s 116us/sample - loss: 0.3443 - accuracy: 0.8556 - val_loss: 0.3442 - val_accuracy: 0.8570\n",
      "Epoch 28/150\n",
      "7000/7000 [==============================] - 1s 124us/sample - loss: 0.3457 - accuracy: 0.8549 - val_loss: 0.3405 - val_accuracy: 0.8587\n",
      "Epoch 29/150\n",
      "7000/7000 [==============================] - 1s 126us/sample - loss: 0.3462 - accuracy: 0.8560 - val_loss: 0.3422 - val_accuracy: 0.8557\n",
      "Epoch 30/150\n",
      "7000/7000 [==============================] - 1s 116us/sample - loss: 0.3427 - accuracy: 0.8570 - val_loss: 0.3416 - val_accuracy: 0.8583\n",
      "Epoch 31/150\n",
      "7000/7000 [==============================] - 1s 123us/sample - loss: 0.3405 - accuracy: 0.8591 - val_loss: 0.3431 - val_accuracy: 0.8550\n",
      "Epoch 32/150\n",
      "7000/7000 [==============================] - 1s 109us/sample - loss: 0.3434 - accuracy: 0.8569 - val_loss: 0.3430 - val_accuracy: 0.8570\n",
      "Epoch 33/150\n",
      "7000/7000 [==============================] - 1s 123us/sample - loss: 0.3419 - accuracy: 0.8587 - val_loss: 0.3425 - val_accuracy: 0.8580\n",
      "Epoch 34/150\n",
      "7000/7000 [==============================] - 1s 125us/sample - loss: 0.3415 - accuracy: 0.8603 - val_loss: 0.3425 - val_accuracy: 0.8587\n",
      "Epoch 35/150\n",
      "7000/7000 [==============================] - 1s 123us/sample - loss: 0.3405 - accuracy: 0.8563 - val_loss: 0.3426 - val_accuracy: 0.8600\n",
      "Epoch 36/150\n",
      "7000/7000 [==============================] - 1s 148us/sample - loss: 0.3367 - accuracy: 0.8624 - val_loss: 0.3415 - val_accuracy: 0.8613\n",
      "Epoch 37/150\n",
      "7000/7000 [==============================] - 1s 106us/sample - loss: 0.3404 - accuracy: 0.8569 - val_loss: 0.3421 - val_accuracy: 0.8597\n",
      "Epoch 38/150\n",
      "7000/7000 [==============================] - 1s 96us/sample - loss: 0.3383 - accuracy: 0.8569 - val_loss: 0.3425 - val_accuracy: 0.8563\n",
      "Epoch 39/150\n",
      "7000/7000 [==============================] - 1s 125us/sample - loss: 0.3393 - accuracy: 0.8571 - val_loss: 0.3443 - val_accuracy: 0.8597\n",
      "Epoch 40/150\n",
      "7000/7000 [==============================] - 1s 121us/sample - loss: 0.3406 - accuracy: 0.8590 - val_loss: 0.3425 - val_accuracy: 0.8600\n",
      "Epoch 41/150\n",
      "7000/7000 [==============================] - 1s 121us/sample - loss: 0.3355 - accuracy: 0.8594 - val_loss: 0.3440 - val_accuracy: 0.8553\n",
      "Epoch 42/150\n",
      "7000/7000 [==============================] - 1s 130us/sample - loss: 0.3382 - accuracy: 0.8606 - val_loss: 0.3424 - val_accuracy: 0.8603\n",
      "Epoch 43/150\n",
      "7000/7000 [==============================] - 1s 116us/sample - loss: 0.3374 - accuracy: 0.8583 - val_loss: 0.3430 - val_accuracy: 0.8587\n",
      "Epoch 44/150\n",
      "7000/7000 [==============================] - 1s 117us/sample - loss: 0.3406 - accuracy: 0.8561 - val_loss: 0.3414 - val_accuracy: 0.8533\n",
      "Epoch 45/150\n",
      "7000/7000 [==============================] - 1s 116us/sample - loss: 0.3387 - accuracy: 0.8627 - val_loss: 0.3434 - val_accuracy: 0.8600\n",
      "Epoch 46/150\n",
      "7000/7000 [==============================] - 1s 113us/sample - loss: 0.3387 - accuracy: 0.8587 - val_loss: 0.3412 - val_accuracy: 0.8573\n",
      "Epoch 47/150\n",
      "7000/7000 [==============================] - 1s 112us/sample - loss: 0.3367 - accuracy: 0.8633 - val_loss: 0.3418 - val_accuracy: 0.8563\n",
      "Epoch 48/150\n",
      "7000/7000 [==============================] - 1s 114us/sample - loss: 0.3382 - accuracy: 0.8593 - val_loss: 0.3430 - val_accuracy: 0.8547\n",
      "Epoch 49/150\n",
      "7000/7000 [==============================] - 1s 112us/sample - loss: 0.3376 - accuracy: 0.8561 - val_loss: 0.3425 - val_accuracy: 0.8570\n",
      "Epoch 50/150\n",
      "7000/7000 [==============================] - 1s 117us/sample - loss: 0.3339 - accuracy: 0.8640 - val_loss: 0.3418 - val_accuracy: 0.8600\n",
      "Epoch 51/150\n",
      "7000/7000 [==============================] - 1s 115us/sample - loss: 0.3396 - accuracy: 0.8567 - val_loss: 0.3411 - val_accuracy: 0.8563\n",
      "Epoch 52/150\n",
      "7000/7000 [==============================] - 1s 113us/sample - loss: 0.3363 - accuracy: 0.8601 - val_loss: 0.3414 - val_accuracy: 0.8547\n",
      "Epoch 53/150\n",
      "7000/7000 [==============================] - 1s 115us/sample - loss: 0.3351 - accuracy: 0.8596 - val_loss: 0.3417 - val_accuracy: 0.8567\n",
      "Epoch 54/150\n",
      "7000/7000 [==============================] - 1s 114us/sample - loss: 0.3368 - accuracy: 0.8609 - val_loss: 0.3422 - val_accuracy: 0.8590\n",
      "Epoch 55/150\n",
      "7000/7000 [==============================] - 1s 105us/sample - loss: 0.3364 - accuracy: 0.8589 - val_loss: 0.3438 - val_accuracy: 0.8587\n",
      "Epoch 56/150\n",
      "7000/7000 [==============================] - 1s 111us/sample - loss: 0.3329 - accuracy: 0.8600 - val_loss: 0.3443 - val_accuracy: 0.8523\n",
      "Epoch 57/150\n",
      "7000/7000 [==============================] - 1s 112us/sample - loss: 0.3349 - accuracy: 0.8633 - val_loss: 0.3417 - val_accuracy: 0.8557\n",
      "Epoch 58/150\n",
      "7000/7000 [==============================] - 1s 113us/sample - loss: 0.3328 - accuracy: 0.8636 - val_loss: 0.3426 - val_accuracy: 0.8553\n",
      "Epoch 59/150\n",
      "7000/7000 [==============================] - 1s 112us/sample - loss: 0.3327 - accuracy: 0.8623 - val_loss: 0.3451 - val_accuracy: 0.8540\n",
      "Epoch 60/150\n",
      "7000/7000 [==============================] - 1s 114us/sample - loss: 0.3334 - accuracy: 0.8616 - val_loss: 0.3416 - val_accuracy: 0.8557\n",
      "Epoch 61/150\n",
      "7000/7000 [==============================] - 1s 114us/sample - loss: 0.3368 - accuracy: 0.8623 - val_loss: 0.3421 - val_accuracy: 0.8583\n",
      "Epoch 62/150\n",
      "7000/7000 [==============================] - 1s 114us/sample - loss: 0.3318 - accuracy: 0.8591 - val_loss: 0.3445 - val_accuracy: 0.8563\n",
      "Epoch 63/150\n",
      "7000/7000 [==============================] - 1s 113us/sample - loss: 0.3330 - accuracy: 0.8573 - val_loss: 0.3430 - val_accuracy: 0.8557\n",
      "Epoch 64/150\n",
      "7000/7000 [==============================] - 1s 110us/sample - loss: 0.3292 - accuracy: 0.8627 - val_loss: 0.3449 - val_accuracy: 0.8573\n",
      "Epoch 65/150\n",
      "7000/7000 [==============================] - 1s 112us/sample - loss: 0.3346 - accuracy: 0.8599 - val_loss: 0.3438 - val_accuracy: 0.8580\n",
      "Epoch 66/150\n",
      "7000/7000 [==============================] - 1s 114us/sample - loss: 0.3356 - accuracy: 0.8591 - val_loss: 0.3434 - val_accuracy: 0.8553\n",
      "Epoch 67/150\n",
      "7000/7000 [==============================] - 1s 111us/sample - loss: 0.3350 - accuracy: 0.8621 - val_loss: 0.3429 - val_accuracy: 0.8547\n",
      "Epoch 68/150\n",
      "7000/7000 [==============================] - 1s 111us/sample - loss: 0.3329 - accuracy: 0.8634 - val_loss: 0.3444 - val_accuracy: 0.8533\n",
      "Epoch 69/150\n",
      "7000/7000 [==============================] - 1s 111us/sample - loss: 0.3311 - accuracy: 0.8651 - val_loss: 0.3438 - val_accuracy: 0.8560\n",
      "Epoch 70/150\n",
      "7000/7000 [==============================] - 1s 112us/sample - loss: 0.3337 - accuracy: 0.8627 - val_loss: 0.3448 - val_accuracy: 0.8533\n",
      "Epoch 71/150\n",
      "7000/7000 [==============================] - 1s 112us/sample - loss: 0.3353 - accuracy: 0.8601 - val_loss: 0.3411 - val_accuracy: 0.8573\n",
      "Epoch 72/150\n",
      "7000/7000 [==============================] - 1s 113us/sample - loss: 0.3343 - accuracy: 0.8631 - val_loss: 0.3439 - val_accuracy: 0.8583\n",
      "Epoch 73/150\n",
      "7000/7000 [==============================] - 1s 112us/sample - loss: 0.3311 - accuracy: 0.8649 - val_loss: 0.3448 - val_accuracy: 0.8533\n",
      "Epoch 74/150\n",
      "7000/7000 [==============================] - 1s 113us/sample - loss: 0.3318 - accuracy: 0.8644 - val_loss: 0.3435 - val_accuracy: 0.8557\n",
      "Epoch 75/150\n",
      "7000/7000 [==============================] - 1s 111us/sample - loss: 0.3322 - accuracy: 0.8623 - val_loss: 0.3433 - val_accuracy: 0.8577\n",
      "Epoch 76/150\n",
      "7000/7000 [==============================] - 1s 112us/sample - loss: 0.3342 - accuracy: 0.8594 - val_loss: 0.3432 - val_accuracy: 0.8560\n",
      "Epoch 77/150\n",
      "7000/7000 [==============================] - 1s 111us/sample - loss: 0.3326 - accuracy: 0.8631 - val_loss: 0.3435 - val_accuracy: 0.8563\n",
      "Epoch 78/150\n",
      "7000/7000 [==============================] - 1s 115us/sample - loss: 0.3329 - accuracy: 0.8594 - val_loss: 0.3436 - val_accuracy: 0.8553\n",
      "Epoch 79/150\n",
      "7000/7000 [==============================] - 1s 112us/sample - loss: 0.3331 - accuracy: 0.8613 - val_loss: 0.3420 - val_accuracy: 0.8570\n",
      "Epoch 80/150\n",
      "7000/7000 [==============================] - 1s 111us/sample - loss: 0.3336 - accuracy: 0.8630 - val_loss: 0.3455 - val_accuracy: 0.8527\n",
      "Epoch 81/150\n",
      "7000/7000 [==============================] - 1s 111us/sample - loss: 0.3306 - accuracy: 0.8640 - val_loss: 0.3461 - val_accuracy: 0.8543\n",
      "Epoch 82/150\n",
      "7000/7000 [==============================] - 1s 113us/sample - loss: 0.3338 - accuracy: 0.8609 - val_loss: 0.3452 - val_accuracy: 0.8557\n",
      "Epoch 83/150\n",
      "7000/7000 [==============================] - 1s 111us/sample - loss: 0.3309 - accuracy: 0.8603 - val_loss: 0.3464 - val_accuracy: 0.8520\n",
      "Epoch 84/150\n",
      "7000/7000 [==============================] - 1s 110us/sample - loss: 0.3316 - accuracy: 0.8623 - val_loss: 0.3444 - val_accuracy: 0.8550\n",
      "Epoch 85/150\n",
      "7000/7000 [==============================] - 1s 112us/sample - loss: 0.3281 - accuracy: 0.8653 - val_loss: 0.3426 - val_accuracy: 0.8557\n",
      "Epoch 86/150\n",
      "7000/7000 [==============================] - 1s 112us/sample - loss: 0.3312 - accuracy: 0.8623 - val_loss: 0.3436 - val_accuracy: 0.8533\n",
      "Epoch 87/150\n",
      "7000/7000 [==============================] - 1s 111us/sample - loss: 0.3306 - accuracy: 0.8620 - val_loss: 0.3447 - val_accuracy: 0.8530\n",
      "Epoch 88/150\n",
      "7000/7000 [==============================] - 1s 112us/sample - loss: 0.3287 - accuracy: 0.8674 - val_loss: 0.3448 - val_accuracy: 0.8540\n",
      "Epoch 89/150\n",
      "7000/7000 [==============================] - 1s 109us/sample - loss: 0.3341 - accuracy: 0.8621 - val_loss: 0.3436 - val_accuracy: 0.8570\n",
      "Epoch 90/150\n",
      "7000/7000 [==============================] - 1s 109us/sample - loss: 0.3301 - accuracy: 0.8636 - val_loss: 0.3447 - val_accuracy: 0.8540\n",
      "Epoch 91/150\n",
      "7000/7000 [==============================] - 1s 110us/sample - loss: 0.3301 - accuracy: 0.8644 - val_loss: 0.3441 - val_accuracy: 0.8560\n",
      "Epoch 92/150\n",
      "7000/7000 [==============================] - 1s 111us/sample - loss: 0.3271 - accuracy: 0.8660 - val_loss: 0.3452 - val_accuracy: 0.8553\n",
      "Epoch 93/150\n",
      "7000/7000 [==============================] - 1s 112us/sample - loss: 0.3302 - accuracy: 0.8636 - val_loss: 0.3428 - val_accuracy: 0.8537\n",
      "Epoch 94/150\n",
      "7000/7000 [==============================] - 1s 112us/sample - loss: 0.3343 - accuracy: 0.8587 - val_loss: 0.3439 - val_accuracy: 0.8570\n",
      "Epoch 95/150\n",
      "7000/7000 [==============================] - 1s 112us/sample - loss: 0.3326 - accuracy: 0.8621 - val_loss: 0.3443 - val_accuracy: 0.8560\n",
      "Epoch 96/150\n",
      "7000/7000 [==============================] - 1s 111us/sample - loss: 0.3292 - accuracy: 0.8651 - val_loss: 0.3442 - val_accuracy: 0.8563\n",
      "Epoch 97/150\n",
      "7000/7000 [==============================] - 1s 115us/sample - loss: 0.3311 - accuracy: 0.8614 - val_loss: 0.3471 - val_accuracy: 0.8540\n",
      "Epoch 98/150\n",
      "7000/7000 [==============================] - 1s 115us/sample - loss: 0.3305 - accuracy: 0.8639 - val_loss: 0.3460 - val_accuracy: 0.8543\n",
      "Epoch 99/150\n",
      "7000/7000 [==============================] - 1s 114us/sample - loss: 0.3283 - accuracy: 0.8626 - val_loss: 0.3446 - val_accuracy: 0.8553\n",
      "Epoch 100/150\n",
      "7000/7000 [==============================] - 1s 121us/sample - loss: 0.3280 - accuracy: 0.8666 - val_loss: 0.3444 - val_accuracy: 0.8567\n",
      "Epoch 101/150\n",
      "7000/7000 [==============================] - 1s 114us/sample - loss: 0.3294 - accuracy: 0.8651 - val_loss: 0.3469 - val_accuracy: 0.8570\n",
      "Epoch 102/150\n",
      "7000/7000 [==============================] - 1s 113us/sample - loss: 0.3298 - accuracy: 0.8646 - val_loss: 0.3474 - val_accuracy: 0.8547\n",
      "Epoch 103/150\n",
      "7000/7000 [==============================] - 1s 113us/sample - loss: 0.3270 - accuracy: 0.8646 - val_loss: 0.3487 - val_accuracy: 0.8557\n",
      "Epoch 104/150\n",
      "7000/7000 [==============================] - 1s 113us/sample - loss: 0.3316 - accuracy: 0.8649 - val_loss: 0.3456 - val_accuracy: 0.8557\n",
      "Epoch 105/150\n",
      "7000/7000 [==============================] - 1s 111us/sample - loss: 0.3299 - accuracy: 0.8621 - val_loss: 0.3446 - val_accuracy: 0.8560\n",
      "Epoch 106/150\n",
      "7000/7000 [==============================] - 1s 113us/sample - loss: 0.3321 - accuracy: 0.8629 - val_loss: 0.3468 - val_accuracy: 0.8570\n",
      "Epoch 107/150\n",
      "7000/7000 [==============================] - 1s 114us/sample - loss: 0.3287 - accuracy: 0.8651 - val_loss: 0.3465 - val_accuracy: 0.8547\n",
      "Epoch 108/150\n",
      "7000/7000 [==============================] - 1s 114us/sample - loss: 0.3262 - accuracy: 0.8619 - val_loss: 0.3463 - val_accuracy: 0.8573\n",
      "Epoch 109/150\n",
      "7000/7000 [==============================] - 1s 112us/sample - loss: 0.3307 - accuracy: 0.8617 - val_loss: 0.3460 - val_accuracy: 0.8570\n",
      "Epoch 110/150\n",
      "7000/7000 [==============================] - 1s 113us/sample - loss: 0.3304 - accuracy: 0.8627 - val_loss: 0.3467 - val_accuracy: 0.8557\n",
      "Epoch 111/150\n",
      "7000/7000 [==============================] - 1s 113us/sample - loss: 0.3298 - accuracy: 0.8621 - val_loss: 0.3472 - val_accuracy: 0.8547\n",
      "Epoch 112/150\n",
      "7000/7000 [==============================] - 1s 113us/sample - loss: 0.3304 - accuracy: 0.8650 - val_loss: 0.3453 - val_accuracy: 0.8543\n",
      "Epoch 113/150\n",
      "7000/7000 [==============================] - 1s 112us/sample - loss: 0.3317 - accuracy: 0.8611 - val_loss: 0.3465 - val_accuracy: 0.8553\n",
      "Epoch 114/150\n",
      "7000/7000 [==============================] - 1s 112us/sample - loss: 0.3315 - accuracy: 0.8610 - val_loss: 0.3491 - val_accuracy: 0.8527\n",
      "Epoch 115/150\n",
      "7000/7000 [==============================] - 1s 112us/sample - loss: 0.3310 - accuracy: 0.8604 - val_loss: 0.3481 - val_accuracy: 0.8557\n",
      "Epoch 116/150\n",
      "7000/7000 [==============================] - 1s 115us/sample - loss: 0.3297 - accuracy: 0.8653 - val_loss: 0.3494 - val_accuracy: 0.8540\n",
      "Epoch 117/150\n",
      "7000/7000 [==============================] - 1s 116us/sample - loss: 0.3260 - accuracy: 0.8659 - val_loss: 0.3473 - val_accuracy: 0.8537\n",
      "Epoch 118/150\n",
      "7000/7000 [==============================] - 1s 116us/sample - loss: 0.3232 - accuracy: 0.8650 - val_loss: 0.3492 - val_accuracy: 0.8580\n",
      "Epoch 119/150\n",
      "7000/7000 [==============================] - 1s 114us/sample - loss: 0.3301 - accuracy: 0.8623 - val_loss: 0.3478 - val_accuracy: 0.8560\n",
      "Epoch 120/150\n",
      "7000/7000 [==============================] - 1s 114us/sample - loss: 0.3278 - accuracy: 0.8630 - val_loss: 0.3467 - val_accuracy: 0.8550\n",
      "Epoch 121/150\n",
      "7000/7000 [==============================] - 1s 111us/sample - loss: 0.3298 - accuracy: 0.8630 - val_loss: 0.3461 - val_accuracy: 0.8587\n",
      "Epoch 122/150\n",
      "7000/7000 [==============================] - 1s 112us/sample - loss: 0.3288 - accuracy: 0.8657 - val_loss: 0.3469 - val_accuracy: 0.8597\n",
      "Epoch 123/150\n",
      "7000/7000 [==============================] - 1s 112us/sample - loss: 0.3291 - accuracy: 0.8666 - val_loss: 0.3454 - val_accuracy: 0.8550\n",
      "Epoch 124/150\n",
      "7000/7000 [==============================] - 1s 112us/sample - loss: 0.3249 - accuracy: 0.8661 - val_loss: 0.3469 - val_accuracy: 0.8577\n",
      "Epoch 125/150\n",
      "7000/7000 [==============================] - 1s 110us/sample - loss: 0.3319 - accuracy: 0.8606 - val_loss: 0.3454 - val_accuracy: 0.8553\n",
      "Epoch 126/150\n",
      "7000/7000 [==============================] - 1s 112us/sample - loss: 0.3289 - accuracy: 0.8647 - val_loss: 0.3480 - val_accuracy: 0.8563\n",
      "Epoch 127/150\n",
      "7000/7000 [==============================] - 1s 114us/sample - loss: 0.3238 - accuracy: 0.8653 - val_loss: 0.3487 - val_accuracy: 0.8563\n",
      "Epoch 128/150\n",
      "7000/7000 [==============================] - 1s 111us/sample - loss: 0.3265 - accuracy: 0.8639 - val_loss: 0.3488 - val_accuracy: 0.8543\n",
      "Epoch 129/150\n",
      "7000/7000 [==============================] - 1s 111us/sample - loss: 0.3266 - accuracy: 0.8633 - val_loss: 0.3477 - val_accuracy: 0.8540\n",
      "Epoch 130/150\n",
      "7000/7000 [==============================] - 1s 114us/sample - loss: 0.3263 - accuracy: 0.8669 - val_loss: 0.3499 - val_accuracy: 0.8530\n",
      "Epoch 131/150\n",
      "7000/7000 [==============================] - 1s 111us/sample - loss: 0.3266 - accuracy: 0.8654 - val_loss: 0.3473 - val_accuracy: 0.8567\n",
      "Epoch 132/150\n",
      "7000/7000 [==============================] - 1s 113us/sample - loss: 0.3261 - accuracy: 0.8653 - val_loss: 0.3489 - val_accuracy: 0.8543\n",
      "Epoch 133/150\n",
      "7000/7000 [==============================] - 1s 115us/sample - loss: 0.3224 - accuracy: 0.8659 - val_loss: 0.3492 - val_accuracy: 0.8607\n",
      "Epoch 134/150\n",
      "7000/7000 [==============================] - 1s 113us/sample - loss: 0.3232 - accuracy: 0.8664 - val_loss: 0.3468 - val_accuracy: 0.8537\n",
      "Epoch 135/150\n",
      "7000/7000 [==============================] - 1s 111us/sample - loss: 0.3305 - accuracy: 0.8623 - val_loss: 0.3473 - val_accuracy: 0.8583\n",
      "Epoch 136/150\n",
      "7000/7000 [==============================] - 1s 112us/sample - loss: 0.3279 - accuracy: 0.8644 - val_loss: 0.3467 - val_accuracy: 0.8587\n",
      "Epoch 137/150\n",
      "7000/7000 [==============================] - 1s 110us/sample - loss: 0.3274 - accuracy: 0.8631 - val_loss: 0.3476 - val_accuracy: 0.8593\n",
      "Epoch 138/150\n",
      "7000/7000 [==============================] - 1s 111us/sample - loss: 0.3289 - accuracy: 0.8633 - val_loss: 0.3493 - val_accuracy: 0.8563\n",
      "Epoch 139/150\n",
      "7000/7000 [==============================] - 1s 111us/sample - loss: 0.3268 - accuracy: 0.8657 - val_loss: 0.3472 - val_accuracy: 0.8567\n",
      "Epoch 140/150\n",
      "7000/7000 [==============================] - 1s 113us/sample - loss: 0.3262 - accuracy: 0.8633 - val_loss: 0.3525 - val_accuracy: 0.8520\n",
      "Epoch 141/150\n",
      "7000/7000 [==============================] - 1s 116us/sample - loss: 0.3267 - accuracy: 0.8637 - val_loss: 0.3478 - val_accuracy: 0.8573\n",
      "Epoch 142/150\n",
      "7000/7000 [==============================] - 1s 113us/sample - loss: 0.3255 - accuracy: 0.8629 - val_loss: 0.3487 - val_accuracy: 0.8570\n",
      "Epoch 143/150\n",
      "7000/7000 [==============================] - 1s 114us/sample - loss: 0.3268 - accuracy: 0.8670 - val_loss: 0.3485 - val_accuracy: 0.8577\n",
      "Epoch 144/150\n",
      "7000/7000 [==============================] - 1s 114us/sample - loss: 0.3248 - accuracy: 0.8666 - val_loss: 0.3477 - val_accuracy: 0.8590\n",
      "Epoch 145/150\n",
      "7000/7000 [==============================] - 1s 113us/sample - loss: 0.3262 - accuracy: 0.8643 - val_loss: 0.3497 - val_accuracy: 0.8573\n",
      "Epoch 146/150\n",
      "7000/7000 [==============================] - 1s 115us/sample - loss: 0.3247 - accuracy: 0.8651 - val_loss: 0.3504 - val_accuracy: 0.8590\n",
      "Epoch 147/150\n",
      "7000/7000 [==============================] - 1s 113us/sample - loss: 0.3269 - accuracy: 0.8634 - val_loss: 0.3491 - val_accuracy: 0.8573\n",
      "Epoch 148/150\n",
      "7000/7000 [==============================] - 1s 114us/sample - loss: 0.3282 - accuracy: 0.8651 - val_loss: 0.3488 - val_accuracy: 0.8570\n",
      "Epoch 149/150\n",
      "7000/7000 [==============================] - 1s 112us/sample - loss: 0.3278 - accuracy: 0.8664 - val_loss: 0.3486 - val_accuracy: 0.8580\n",
      "Epoch 150/150\n",
      "7000/7000 [==============================] - 1s 112us/sample - loss: 0.3255 - accuracy: 0.8670 - val_loss: 0.3473 - val_accuracy: 0.8587\n"
     ]
    },
    {
     "data": {
      "text/plain": [
       "<tensorflow.python.keras.callbacks.History at 0x22d2ccd6108>"
      ]
     },
     "execution_count": 130,
     "metadata": {},
     "output_type": "execute_result"
    }
   ],
   "source": [
    "model.fit(X_train_array, y_train_array, validation_data=(X_test_array, y_test_array), epochs=150,\n",
    "          batch_size = 32)"
   ]
  },
  {
   "cell_type": "code",
   "execution_count": 132,
   "metadata": {},
   "outputs": [],
   "source": [
    "th=0.5 # Threshold\n",
    "y_test_preds = np.where(model.predict(X_test_array) > th, 1, 0)"
   ]
  },
  {
   "cell_type": "code",
   "execution_count": 141,
   "metadata": {},
   "outputs": [
    {
     "name": "stdout",
     "output_type": "stream",
     "text": [
      "Test Metrics at 0.5 Threshold with 3 Hidden layer DNN model\n",
      "\n",
      "           3 Hidden Layer DNN\n",
      "accuracy             0.858667\n",
      "recall               0.452893\n",
      "precision            0.746594\n",
      "f1_score             0.563786\n"
     ]
    }
   ],
   "source": [
    "print('Test Metrics at 0.5 Threshold with 3 Hidden layer DNN model\\n')\n",
    "Test_Metrics_3_HiddenLayer_DNN=pd.DataFrame(data=[accuracy_score(y_test, y_test_preds), \n",
    "                   recall_score(y_test_array, y_test_preds), \n",
    "                   precision_score(y_test_array, y_test_preds),\n",
    "                   f1_score(y_test_array, y_test_preds)], columns=['3 Hidden Layer DNN'],\n",
    "             index=[\"accuracy\", \"recall\", \"precision\", \"f1_score\"])\n",
    "print(Test_Metrics_3_HiddenLayer_DNN)"
   ]
  },
  {
   "cell_type": "code",
   "execution_count": 142,
   "metadata": {},
   "outputs": [
    {
     "data": {
      "text/plain": [
       "array([[2302,   93],\n",
       "       [ 331,  274]], dtype=int64)"
      ]
     },
     "execution_count": 142,
     "metadata": {},
     "output_type": "execute_result"
    }
   ],
   "source": [
    "# Confusion matrix with optimal Threshold on test set\n",
    "metrics.confusion_matrix(y_test_array, y_test_preds)"
   ]
  },
  {
   "cell_type": "markdown",
   "metadata": {},
   "source": [
    "##### Not much improvement in accuracy, precision has improved, recall has gone down,overall accuracy is almost same"
   ]
  },
  {
   "cell_type": "markdown",
   "metadata": {},
   "source": [
    "#### B) With Batch normalisation after each hidden layer"
   ]
  },
  {
   "cell_type": "code",
   "execution_count": 144,
   "metadata": {},
   "outputs": [],
   "source": [
    "# Initialize Sequential model\n",
    "model = tf.keras.models.Sequential()\n",
    "\n",
    "\n",
    "# Add Input layer to the model\n",
    "model.add(tf.keras.Input(shape=(13,))) # 13 Features\n",
    "\n",
    "# Batch Normalization Layer\n",
    "#model.add(tf.keras.layers.BatchNormalization())\n",
    "\n",
    "# Hidden layers\n",
    "model.add(tf.keras.layers.Dense(13, activation='relu', name='Layer_1'))\n",
    "# Batch Normalization Layer\n",
    "model.add(tf.keras.layers.BatchNormalization())\n",
    "model.add(tf.keras.layers.Dense(13, activation='relu', name='Layer_2'))\n",
    "# Batch Normalization Layer\n",
    "model.add(tf.keras.layers.BatchNormalization())\n",
    "model.add(tf.keras.layers.Dense(10, activation='relu', name='Layer_3'))\n",
    "# Batch Normalization Layer\n",
    "model.add(tf.keras.layers.BatchNormalization())\n",
    "#Output layer\n",
    "model.add(tf.keras.layers.Dense(1, activation='sigmoid', name='Output'))"
   ]
  },
  {
   "cell_type": "code",
   "execution_count": 145,
   "metadata": {},
   "outputs": [],
   "source": [
    "model.compile(optimizer='adam', loss='binary_crossentropy', metrics=['accuracy'])"
   ]
  },
  {
   "cell_type": "code",
   "execution_count": 146,
   "metadata": {},
   "outputs": [
    {
     "name": "stdout",
     "output_type": "stream",
     "text": [
      "Model: \"sequential_16\"\n",
      "_________________________________________________________________\n",
      "Layer (type)                 Output Shape              Param #   \n",
      "=================================================================\n",
      "Layer_1 (Dense)              (None, 13)                182       \n",
      "_________________________________________________________________\n",
      "batch_normalization_14 (Batc (None, 13)                52        \n",
      "_________________________________________________________________\n",
      "Layer_2 (Dense)              (None, 13)                182       \n",
      "_________________________________________________________________\n",
      "batch_normalization_15 (Batc (None, 13)                52        \n",
      "_________________________________________________________________\n",
      "Layer_3 (Dense)              (None, 10)                140       \n",
      "_________________________________________________________________\n",
      "batch_normalization_16 (Batc (None, 10)                40        \n",
      "_________________________________________________________________\n",
      "Output (Dense)               (None, 1)                 11        \n",
      "=================================================================\n",
      "Total params: 659\n",
      "Trainable params: 587\n",
      "Non-trainable params: 72\n",
      "_________________________________________________________________\n"
     ]
    }
   ],
   "source": [
    "model.summary()"
   ]
  },
  {
   "cell_type": "code",
   "execution_count": 147,
   "metadata": {},
   "outputs": [
    {
     "name": "stdout",
     "output_type": "stream",
     "text": [
      "Train on 7000 samples, validate on 3000 samples\n",
      "Epoch 1/150\n",
      "7000/7000 [==============================] - 4s 590us/sample - loss: 0.6205 - accuracy: 0.6926 - val_loss: 0.5040 - val_accuracy: 0.8027\n",
      "Epoch 2/150\n",
      "7000/7000 [==============================] - 1s 132us/sample - loss: 0.4742 - accuracy: 0.8004 - val_loss: 0.4342 - val_accuracy: 0.8157\n",
      "Epoch 3/150\n",
      "7000/7000 [==============================] - 1s 137us/sample - loss: 0.4329 - accuracy: 0.8131 - val_loss: 0.4035 - val_accuracy: 0.8257\n",
      "Epoch 4/150\n",
      "7000/7000 [==============================] - 1s 135us/sample - loss: 0.4132 - accuracy: 0.8196 - val_loss: 0.3866 - val_accuracy: 0.8327\n",
      "Epoch 5/150\n",
      "7000/7000 [==============================] - 1s 135us/sample - loss: 0.3934 - accuracy: 0.8296 - val_loss: 0.3748 - val_accuracy: 0.8397\n",
      "Epoch 6/150\n",
      "7000/7000 [==============================] - 1s 136us/sample - loss: 0.3824 - accuracy: 0.8339 - val_loss: 0.3695 - val_accuracy: 0.8423\n",
      "Epoch 7/150\n",
      "7000/7000 [==============================] - 1s 136us/sample - loss: 0.3760 - accuracy: 0.8429 - val_loss: 0.3650 - val_accuracy: 0.8480\n",
      "Epoch 8/150\n",
      "7000/7000 [==============================] - 1s 136us/sample - loss: 0.3651 - accuracy: 0.8476 - val_loss: 0.3618 - val_accuracy: 0.8490\n",
      "Epoch 9/150\n",
      "7000/7000 [==============================] - 1s 136us/sample - loss: 0.3719 - accuracy: 0.8436 - val_loss: 0.3606 - val_accuracy: 0.8507\n",
      "Epoch 10/150\n",
      "7000/7000 [==============================] - 1s 143us/sample - loss: 0.3634 - accuracy: 0.8466 - val_loss: 0.3597 - val_accuracy: 0.8543\n",
      "Epoch 11/150\n",
      "7000/7000 [==============================] - 1s 141us/sample - loss: 0.3621 - accuracy: 0.8489 - val_loss: 0.3573 - val_accuracy: 0.8520\n",
      "Epoch 12/150\n",
      "7000/7000 [==============================] - 1s 136us/sample - loss: 0.3604 - accuracy: 0.8520 - val_loss: 0.3562 - val_accuracy: 0.8540\n",
      "Epoch 13/150\n",
      "7000/7000 [==============================] - 1s 147us/sample - loss: 0.3558 - accuracy: 0.8507 - val_loss: 0.3551 - val_accuracy: 0.8563\n",
      "Epoch 14/150\n",
      "7000/7000 [==============================] - 1s 140us/sample - loss: 0.3561 - accuracy: 0.8513 - val_loss: 0.3569 - val_accuracy: 0.8577\n",
      "Epoch 15/150\n",
      "7000/7000 [==============================] - 1s 139us/sample - loss: 0.3550 - accuracy: 0.8530 - val_loss: 0.3554 - val_accuracy: 0.8530\n",
      "Epoch 16/150\n",
      "7000/7000 [==============================] - 1s 136us/sample - loss: 0.3552 - accuracy: 0.8521 - val_loss: 0.3531 - val_accuracy: 0.8560\n",
      "Epoch 17/150\n",
      "7000/7000 [==============================] - 1s 137us/sample - loss: 0.3509 - accuracy: 0.8547 - val_loss: 0.3561 - val_accuracy: 0.8537\n",
      "Epoch 18/150\n",
      "7000/7000 [==============================] - 1s 140us/sample - loss: 0.3501 - accuracy: 0.8553 - val_loss: 0.3521 - val_accuracy: 0.8563\n",
      "Epoch 19/150\n",
      "7000/7000 [==============================] - 1s 142us/sample - loss: 0.3511 - accuracy: 0.8544 - val_loss: 0.3532 - val_accuracy: 0.8597\n",
      "Epoch 20/150\n",
      "7000/7000 [==============================] - 1s 139us/sample - loss: 0.3482 - accuracy: 0.8549 - val_loss: 0.3517 - val_accuracy: 0.8560\n",
      "Epoch 21/150\n",
      "7000/7000 [==============================] - 1s 139us/sample - loss: 0.3494 - accuracy: 0.8546 - val_loss: 0.3503 - val_accuracy: 0.8580\n",
      "Epoch 22/150\n",
      "7000/7000 [==============================] - 1s 137us/sample - loss: 0.3470 - accuracy: 0.8570 - val_loss: 0.3502 - val_accuracy: 0.8567\n",
      "Epoch 23/150\n",
      "7000/7000 [==============================] - 1s 140us/sample - loss: 0.3469 - accuracy: 0.8569 - val_loss: 0.3464 - val_accuracy: 0.8583\n",
      "Epoch 24/150\n",
      "7000/7000 [==============================] - 1s 137us/sample - loss: 0.3489 - accuracy: 0.8593 - val_loss: 0.3454 - val_accuracy: 0.8587\n",
      "Epoch 25/150\n",
      "7000/7000 [==============================] - 1s 143us/sample - loss: 0.3480 - accuracy: 0.8579 - val_loss: 0.3482 - val_accuracy: 0.8570\n",
      "Epoch 26/150\n",
      "7000/7000 [==============================] - 1s 133us/sample - loss: 0.3438 - accuracy: 0.8569 - val_loss: 0.3480 - val_accuracy: 0.8573\n",
      "Epoch 27/150\n",
      "7000/7000 [==============================] - 1s 137us/sample - loss: 0.3442 - accuracy: 0.8606 - val_loss: 0.3465 - val_accuracy: 0.8617\n",
      "Epoch 28/150\n",
      "7000/7000 [==============================] - 1s 138us/sample - loss: 0.3457 - accuracy: 0.8541 - val_loss: 0.3453 - val_accuracy: 0.8630\n",
      "Epoch 29/150\n",
      "7000/7000 [==============================] - 1s 136us/sample - loss: 0.3433 - accuracy: 0.8577 - val_loss: 0.3448 - val_accuracy: 0.8640\n",
      "Epoch 30/150\n",
      "7000/7000 [==============================] - 1s 142us/sample - loss: 0.3401 - accuracy: 0.8620 - val_loss: 0.3459 - val_accuracy: 0.8583\n",
      "Epoch 31/150\n",
      "7000/7000 [==============================] - 1s 134us/sample - loss: 0.3440 - accuracy: 0.8601 - val_loss: 0.3449 - val_accuracy: 0.8607\n",
      "Epoch 32/150\n",
      "7000/7000 [==============================] - 1s 137us/sample - loss: 0.3385 - accuracy: 0.8597 - val_loss: 0.3440 - val_accuracy: 0.8603\n",
      "Epoch 33/150\n",
      "7000/7000 [==============================] - 1s 136us/sample - loss: 0.3412 - accuracy: 0.8579 - val_loss: 0.3424 - val_accuracy: 0.8610\n",
      "Epoch 34/150\n",
      "7000/7000 [==============================] - 1s 140us/sample - loss: 0.3385 - accuracy: 0.8620 - val_loss: 0.3431 - val_accuracy: 0.8573\n",
      "Epoch 35/150\n",
      "7000/7000 [==============================] - 1s 142us/sample - loss: 0.3390 - accuracy: 0.8604 - val_loss: 0.3444 - val_accuracy: 0.8593\n",
      "Epoch 36/150\n",
      "7000/7000 [==============================] - 1s 136us/sample - loss: 0.3412 - accuracy: 0.8584 - val_loss: 0.3424 - val_accuracy: 0.8590\n",
      "Epoch 37/150\n",
      "7000/7000 [==============================] - 1s 136us/sample - loss: 0.3352 - accuracy: 0.8630 - val_loss: 0.3429 - val_accuracy: 0.8600\n",
      "Epoch 38/150\n",
      "7000/7000 [==============================] - 1s 137us/sample - loss: 0.3354 - accuracy: 0.8611 - val_loss: 0.3449 - val_accuracy: 0.8583\n",
      "Epoch 39/150\n",
      "7000/7000 [==============================] - 1s 139us/sample - loss: 0.3386 - accuracy: 0.8623 - val_loss: 0.3405 - val_accuracy: 0.8593\n",
      "Epoch 40/150\n",
      "7000/7000 [==============================] - 1s 144us/sample - loss: 0.3396 - accuracy: 0.8627 - val_loss: 0.3443 - val_accuracy: 0.8590\n",
      "Epoch 41/150\n",
      "7000/7000 [==============================] - 1s 142us/sample - loss: 0.3382 - accuracy: 0.8623 - val_loss: 0.3420 - val_accuracy: 0.8617\n",
      "Epoch 42/150\n",
      "7000/7000 [==============================] - 1s 141us/sample - loss: 0.3361 - accuracy: 0.8591 - val_loss: 0.3427 - val_accuracy: 0.8620\n",
      "Epoch 43/150\n",
      "7000/7000 [==============================] - 1s 138us/sample - loss: 0.3365 - accuracy: 0.8617 - val_loss: 0.3397 - val_accuracy: 0.8610\n",
      "Epoch 44/150\n",
      "7000/7000 [==============================] - 1s 145us/sample - loss: 0.3378 - accuracy: 0.8609 - val_loss: 0.3411 - val_accuracy: 0.8610\n",
      "Epoch 45/150\n",
      "7000/7000 [==============================] - 1s 134us/sample - loss: 0.3325 - accuracy: 0.8636 - val_loss: 0.3411 - val_accuracy: 0.8600\n",
      "Epoch 46/150\n",
      "7000/7000 [==============================] - 1s 138us/sample - loss: 0.3369 - accuracy: 0.8600 - val_loss: 0.3412 - val_accuracy: 0.8593\n",
      "Epoch 47/150\n",
      "7000/7000 [==============================] - 1s 138us/sample - loss: 0.3358 - accuracy: 0.8580 - val_loss: 0.3414 - val_accuracy: 0.8627\n",
      "Epoch 48/150\n",
      "7000/7000 [==============================] - 1s 140us/sample - loss: 0.3363 - accuracy: 0.8597 - val_loss: 0.3399 - val_accuracy: 0.8610\n",
      "Epoch 49/150\n",
      "7000/7000 [==============================] - 1s 140us/sample - loss: 0.3327 - accuracy: 0.8610 - val_loss: 0.3401 - val_accuracy: 0.8613\n",
      "Epoch 50/150\n",
      "7000/7000 [==============================] - 1s 139us/sample - loss: 0.3375 - accuracy: 0.8559 - val_loss: 0.3392 - val_accuracy: 0.8620\n",
      "Epoch 51/150\n",
      "7000/7000 [==============================] - 1s 141us/sample - loss: 0.3326 - accuracy: 0.8614 - val_loss: 0.3390 - val_accuracy: 0.8647\n",
      "Epoch 52/150\n",
      "7000/7000 [==============================] - 1s 140us/sample - loss: 0.3336 - accuracy: 0.8624 - val_loss: 0.3373 - val_accuracy: 0.8627\n",
      "Epoch 53/150\n",
      "7000/7000 [==============================] - 1s 142us/sample - loss: 0.3358 - accuracy: 0.8600 - val_loss: 0.3390 - val_accuracy: 0.8613\n",
      "Epoch 54/150\n",
      "7000/7000 [==============================] - 1s 140us/sample - loss: 0.3332 - accuracy: 0.8611 - val_loss: 0.3376 - val_accuracy: 0.8617\n",
      "Epoch 55/150\n",
      "7000/7000 [==============================] - 1s 138us/sample - loss: 0.3343 - accuracy: 0.8613 - val_loss: 0.3380 - val_accuracy: 0.8613\n",
      "Epoch 56/150\n",
      "7000/7000 [==============================] - 1s 138us/sample - loss: 0.3364 - accuracy: 0.8590 - val_loss: 0.3392 - val_accuracy: 0.8600\n",
      "Epoch 57/150\n",
      "7000/7000 [==============================] - 1s 139us/sample - loss: 0.3317 - accuracy: 0.8594 - val_loss: 0.3392 - val_accuracy: 0.8593\n",
      "Epoch 58/150\n",
      "7000/7000 [==============================] - 1s 136us/sample - loss: 0.3324 - accuracy: 0.8646 - val_loss: 0.3388 - val_accuracy: 0.8613\n",
      "Epoch 59/150\n",
      "7000/7000 [==============================] - 1s 138us/sample - loss: 0.3307 - accuracy: 0.8653 - val_loss: 0.3380 - val_accuracy: 0.8603\n",
      "Epoch 60/150\n",
      "7000/7000 [==============================] - 1s 140us/sample - loss: 0.3332 - accuracy: 0.8629 - val_loss: 0.3400 - val_accuracy: 0.8570\n",
      "Epoch 61/150\n",
      "7000/7000 [==============================] - 1s 145us/sample - loss: 0.3303 - accuracy: 0.8640 - val_loss: 0.3395 - val_accuracy: 0.8633\n",
      "Epoch 62/150\n",
      "7000/7000 [==============================] - 1s 138us/sample - loss: 0.3318 - accuracy: 0.8626 - val_loss: 0.3380 - val_accuracy: 0.8640\n",
      "Epoch 63/150\n",
      "7000/7000 [==============================] - 1s 141us/sample - loss: 0.3317 - accuracy: 0.8637 - val_loss: 0.3387 - val_accuracy: 0.8623\n",
      "Epoch 64/150\n",
      "7000/7000 [==============================] - 1s 139us/sample - loss: 0.3304 - accuracy: 0.8617 - val_loss: 0.3414 - val_accuracy: 0.8623\n",
      "Epoch 65/150\n",
      "7000/7000 [==============================] - 1s 138us/sample - loss: 0.3288 - accuracy: 0.8624 - val_loss: 0.3406 - val_accuracy: 0.8623\n",
      "Epoch 66/150\n",
      "7000/7000 [==============================] - 1s 141us/sample - loss: 0.3278 - accuracy: 0.8634 - val_loss: 0.3387 - val_accuracy: 0.8623\n",
      "Epoch 67/150\n",
      "7000/7000 [==============================] - 1s 140us/sample - loss: 0.3320 - accuracy: 0.8646 - val_loss: 0.3374 - val_accuracy: 0.8640\n",
      "Epoch 68/150\n",
      "7000/7000 [==============================] - 1s 137us/sample - loss: 0.3316 - accuracy: 0.8639 - val_loss: 0.3384 - val_accuracy: 0.8640\n",
      "Epoch 69/150\n",
      "7000/7000 [==============================] - 1s 139us/sample - loss: 0.3341 - accuracy: 0.8614 - val_loss: 0.3365 - val_accuracy: 0.8647\n",
      "Epoch 70/150\n",
      "7000/7000 [==============================] - 1s 135us/sample - loss: 0.3311 - accuracy: 0.8653 - val_loss: 0.3350 - val_accuracy: 0.8633\n",
      "Epoch 71/150\n",
      "7000/7000 [==============================] - 1s 144us/sample - loss: 0.3286 - accuracy: 0.8673 - val_loss: 0.3385 - val_accuracy: 0.8603\n",
      "Epoch 72/150\n",
      "7000/7000 [==============================] - 1s 141us/sample - loss: 0.3299 - accuracy: 0.8647 - val_loss: 0.3372 - val_accuracy: 0.8653\n",
      "Epoch 73/150\n",
      "7000/7000 [==============================] - 1s 139us/sample - loss: 0.3302 - accuracy: 0.8633 - val_loss: 0.3368 - val_accuracy: 0.8657\n",
      "Epoch 74/150\n",
      "7000/7000 [==============================] - 1s 140us/sample - loss: 0.3321 - accuracy: 0.8627 - val_loss: 0.3369 - val_accuracy: 0.8617\n",
      "Epoch 75/150\n",
      "7000/7000 [==============================] - 1s 136us/sample - loss: 0.3283 - accuracy: 0.8624 - val_loss: 0.3384 - val_accuracy: 0.8643\n",
      "Epoch 76/150\n",
      "7000/7000 [==============================] - 1s 139us/sample - loss: 0.3297 - accuracy: 0.8656 - val_loss: 0.3382 - val_accuracy: 0.8607\n",
      "Epoch 77/150\n",
      "7000/7000 [==============================] - 1s 135us/sample - loss: 0.3292 - accuracy: 0.8637 - val_loss: 0.3408 - val_accuracy: 0.8607\n",
      "Epoch 78/150\n",
      "7000/7000 [==============================] - 1s 135us/sample - loss: 0.3310 - accuracy: 0.8643 - val_loss: 0.3380 - val_accuracy: 0.8630\n",
      "Epoch 79/150\n",
      "7000/7000 [==============================] - 1s 140us/sample - loss: 0.3296 - accuracy: 0.8656 - val_loss: 0.3382 - val_accuracy: 0.8643\n",
      "Epoch 80/150\n",
      "7000/7000 [==============================] - 1s 140us/sample - loss: 0.3327 - accuracy: 0.8626 - val_loss: 0.3416 - val_accuracy: 0.8600\n",
      "Epoch 81/150\n",
      "7000/7000 [==============================] - 1s 136us/sample - loss: 0.3316 - accuracy: 0.8621 - val_loss: 0.3384 - val_accuracy: 0.8653\n",
      "Epoch 82/150\n",
      "7000/7000 [==============================] - 1s 135us/sample - loss: 0.3303 - accuracy: 0.8617 - val_loss: 0.3399 - val_accuracy: 0.8650\n",
      "Epoch 83/150\n",
      "7000/7000 [==============================] - 1s 136us/sample - loss: 0.3292 - accuracy: 0.8643 - val_loss: 0.3385 - val_accuracy: 0.8643\n",
      "Epoch 84/150\n",
      "7000/7000 [==============================] - 1s 136us/sample - loss: 0.3283 - accuracy: 0.8631 - val_loss: 0.3391 - val_accuracy: 0.8630\n",
      "Epoch 85/150\n",
      "7000/7000 [==============================] - 1s 143us/sample - loss: 0.3276 - accuracy: 0.8637 - val_loss: 0.3415 - val_accuracy: 0.8617\n",
      "Epoch 86/150\n",
      "7000/7000 [==============================] - 1s 133us/sample - loss: 0.3267 - accuracy: 0.8636 - val_loss: 0.3446 - val_accuracy: 0.8590\n",
      "Epoch 87/150\n",
      "7000/7000 [==============================] - 1s 137us/sample - loss: 0.3306 - accuracy: 0.8610 - val_loss: 0.3426 - val_accuracy: 0.8627\n",
      "Epoch 88/150\n",
      "7000/7000 [==============================] - 1s 141us/sample - loss: 0.3291 - accuracy: 0.8659 - val_loss: 0.3430 - val_accuracy: 0.8610\n",
      "Epoch 89/150\n",
      "7000/7000 [==============================] - 1s 136us/sample - loss: 0.3272 - accuracy: 0.8610 - val_loss: 0.3432 - val_accuracy: 0.8610\n",
      "Epoch 90/150\n",
      "7000/7000 [==============================] - 1s 132us/sample - loss: 0.3269 - accuracy: 0.8669 - val_loss: 0.3402 - val_accuracy: 0.8643\n",
      "Epoch 91/150\n",
      "7000/7000 [==============================] - 1s 138us/sample - loss: 0.3275 - accuracy: 0.8646 - val_loss: 0.3402 - val_accuracy: 0.8640\n",
      "Epoch 92/150\n",
      "7000/7000 [==============================] - 1s 140us/sample - loss: 0.3247 - accuracy: 0.8671 - val_loss: 0.3406 - val_accuracy: 0.8643\n",
      "Epoch 93/150\n",
      "7000/7000 [==============================] - 1s 137us/sample - loss: 0.3281 - accuracy: 0.8674 - val_loss: 0.3406 - val_accuracy: 0.8600\n",
      "Epoch 94/150\n",
      "7000/7000 [==============================] - 1s 139us/sample - loss: 0.3228 - accuracy: 0.8667 - val_loss: 0.3404 - val_accuracy: 0.8643\n",
      "Epoch 95/150\n",
      "7000/7000 [==============================] - 1s 141us/sample - loss: 0.3299 - accuracy: 0.8657 - val_loss: 0.3410 - val_accuracy: 0.8647\n",
      "Epoch 96/150\n",
      "7000/7000 [==============================] - 1s 139us/sample - loss: 0.3272 - accuracy: 0.8670 - val_loss: 0.3407 - val_accuracy: 0.8640\n",
      "Epoch 97/150\n",
      "7000/7000 [==============================] - 1s 140us/sample - loss: 0.3237 - accuracy: 0.8661 - val_loss: 0.3409 - val_accuracy: 0.8630\n",
      "Epoch 98/150\n",
      "7000/7000 [==============================] - 1s 136us/sample - loss: 0.3265 - accuracy: 0.8661 - val_loss: 0.3431 - val_accuracy: 0.8633\n",
      "Epoch 99/150\n",
      "7000/7000 [==============================] - 1s 138us/sample - loss: 0.3279 - accuracy: 0.8659 - val_loss: 0.3391 - val_accuracy: 0.8637\n",
      "Epoch 100/150\n",
      "7000/7000 [==============================] - 1s 139us/sample - loss: 0.3280 - accuracy: 0.8649 - val_loss: 0.3405 - val_accuracy: 0.8617\n",
      "Epoch 101/150\n",
      "7000/7000 [==============================] - 1s 138us/sample - loss: 0.3256 - accuracy: 0.8656 - val_loss: 0.3420 - val_accuracy: 0.8630\n",
      "Epoch 102/150\n",
      "7000/7000 [==============================] - 1s 139us/sample - loss: 0.3250 - accuracy: 0.8661 - val_loss: 0.3427 - val_accuracy: 0.8627\n",
      "Epoch 103/150\n",
      "7000/7000 [==============================] - 1s 137us/sample - loss: 0.3255 - accuracy: 0.8636 - val_loss: 0.3421 - val_accuracy: 0.8633\n",
      "Epoch 104/150\n",
      "7000/7000 [==============================] - 1s 141us/sample - loss: 0.3283 - accuracy: 0.8654 - val_loss: 0.3429 - val_accuracy: 0.8640\n",
      "Epoch 105/150\n",
      "7000/7000 [==============================] - 1s 135us/sample - loss: 0.3252 - accuracy: 0.8647 - val_loss: 0.3415 - val_accuracy: 0.8630\n",
      "Epoch 106/150\n",
      "7000/7000 [==============================] - 1s 139us/sample - loss: 0.3231 - accuracy: 0.8657 - val_loss: 0.3426 - val_accuracy: 0.8620\n",
      "Epoch 107/150\n",
      "7000/7000 [==============================] - 1s 143us/sample - loss: 0.3279 - accuracy: 0.8644 - val_loss: 0.3412 - val_accuracy: 0.8610\n",
      "Epoch 108/150\n",
      "7000/7000 [==============================] - 1s 140us/sample - loss: 0.3226 - accuracy: 0.8627 - val_loss: 0.3430 - val_accuracy: 0.8650\n",
      "Epoch 109/150\n",
      "7000/7000 [==============================] - 1s 135us/sample - loss: 0.3295 - accuracy: 0.8593 - val_loss: 0.3445 - val_accuracy: 0.8600\n",
      "Epoch 110/150\n",
      "7000/7000 [==============================] - 1s 139us/sample - loss: 0.3270 - accuracy: 0.8639 - val_loss: 0.3418 - val_accuracy: 0.8620\n",
      "Epoch 111/150\n",
      "7000/7000 [==============================] - 1s 151us/sample - loss: 0.3251 - accuracy: 0.8680 - val_loss: 0.3445 - val_accuracy: 0.8607\n",
      "Epoch 112/150\n",
      "7000/7000 [==============================] - 1s 142us/sample - loss: 0.3263 - accuracy: 0.8664 - val_loss: 0.3424 - val_accuracy: 0.8617\n",
      "Epoch 113/150\n",
      "7000/7000 [==============================] - 1s 138us/sample - loss: 0.3235 - accuracy: 0.8663 - val_loss: 0.3442 - val_accuracy: 0.8597\n",
      "Epoch 114/150\n",
      "7000/7000 [==============================] - 1s 138us/sample - loss: 0.3232 - accuracy: 0.8647 - val_loss: 0.3436 - val_accuracy: 0.8610\n",
      "Epoch 115/150\n",
      "7000/7000 [==============================] - 1s 139us/sample - loss: 0.3283 - accuracy: 0.8640 - val_loss: 0.3440 - val_accuracy: 0.8623\n",
      "Epoch 116/150\n",
      "7000/7000 [==============================] - 1s 140us/sample - loss: 0.3264 - accuracy: 0.8653 - val_loss: 0.3449 - val_accuracy: 0.8600\n",
      "Epoch 117/150\n",
      "7000/7000 [==============================] - 1s 139us/sample - loss: 0.3281 - accuracy: 0.8636 - val_loss: 0.3455 - val_accuracy: 0.8583\n",
      "Epoch 118/150\n",
      "7000/7000 [==============================] - 1s 136us/sample - loss: 0.3246 - accuracy: 0.8636 - val_loss: 0.3444 - val_accuracy: 0.8600\n",
      "Epoch 119/150\n",
      "7000/7000 [==============================] - 1s 141us/sample - loss: 0.3232 - accuracy: 0.8666 - val_loss: 0.3463 - val_accuracy: 0.8620\n",
      "Epoch 120/150\n",
      "7000/7000 [==============================] - 1s 138us/sample - loss: 0.3231 - accuracy: 0.8670 - val_loss: 0.3448 - val_accuracy: 0.8570\n",
      "Epoch 121/150\n",
      "7000/7000 [==============================] - 1s 138us/sample - loss: 0.3221 - accuracy: 0.8651 - val_loss: 0.3421 - val_accuracy: 0.8603\n",
      "Epoch 122/150\n",
      "7000/7000 [==============================] - 1s 139us/sample - loss: 0.3248 - accuracy: 0.8647 - val_loss: 0.3416 - val_accuracy: 0.8600\n",
      "Epoch 123/150\n",
      "7000/7000 [==============================] - 1s 139us/sample - loss: 0.3280 - accuracy: 0.8641 - val_loss: 0.3429 - val_accuracy: 0.8610\n",
      "Epoch 124/150\n",
      "7000/7000 [==============================] - 1s 140us/sample - loss: 0.3222 - accuracy: 0.8650 - val_loss: 0.3463 - val_accuracy: 0.8613\n",
      "Epoch 125/150\n",
      "7000/7000 [==============================] - 1s 140us/sample - loss: 0.3245 - accuracy: 0.8633 - val_loss: 0.3466 - val_accuracy: 0.8627\n",
      "Epoch 126/150\n",
      "7000/7000 [==============================] - 1s 137us/sample - loss: 0.3239 - accuracy: 0.8657 - val_loss: 0.3461 - val_accuracy: 0.8607\n",
      "Epoch 127/150\n",
      "7000/7000 [==============================] - 1s 139us/sample - loss: 0.3255 - accuracy: 0.8631 - val_loss: 0.3452 - val_accuracy: 0.8653\n",
      "Epoch 128/150\n",
      "7000/7000 [==============================] - 1s 139us/sample - loss: 0.3223 - accuracy: 0.8663 - val_loss: 0.3449 - val_accuracy: 0.8627\n",
      "Epoch 129/150\n",
      "7000/7000 [==============================] - 1s 138us/sample - loss: 0.3212 - accuracy: 0.8653 - val_loss: 0.3447 - val_accuracy: 0.8637\n",
      "Epoch 130/150\n",
      "7000/7000 [==============================] - 1s 135us/sample - loss: 0.3212 - accuracy: 0.8680 - val_loss: 0.3436 - val_accuracy: 0.8610\n",
      "Epoch 131/150\n",
      "7000/7000 [==============================] - 1s 140us/sample - loss: 0.3247 - accuracy: 0.8646 - val_loss: 0.3430 - val_accuracy: 0.8627\n",
      "Epoch 132/150\n",
      "7000/7000 [==============================] - 1s 140us/sample - loss: 0.3244 - accuracy: 0.8654 - val_loss: 0.3450 - val_accuracy: 0.8610\n",
      "Epoch 133/150\n",
      "7000/7000 [==============================] - 1s 139us/sample - loss: 0.3224 - accuracy: 0.8676 - val_loss: 0.3472 - val_accuracy: 0.8623\n",
      "Epoch 134/150\n",
      "7000/7000 [==============================] - 1s 139us/sample - loss: 0.3248 - accuracy: 0.8659 - val_loss: 0.3446 - val_accuracy: 0.8617\n",
      "Epoch 135/150\n",
      "7000/7000 [==============================] - 1s 139us/sample - loss: 0.3259 - accuracy: 0.8677 - val_loss: 0.3445 - val_accuracy: 0.8630\n",
      "Epoch 136/150\n",
      "7000/7000 [==============================] - 1s 139us/sample - loss: 0.3233 - accuracy: 0.8649 - val_loss: 0.3432 - val_accuracy: 0.8613\n",
      "Epoch 137/150\n",
      "7000/7000 [==============================] - 1s 142us/sample - loss: 0.3246 - accuracy: 0.8660 - val_loss: 0.3471 - val_accuracy: 0.8610\n",
      "Epoch 138/150\n",
      "7000/7000 [==============================] - 1s 140us/sample - loss: 0.3230 - accuracy: 0.8664 - val_loss: 0.3457 - val_accuracy: 0.8620\n",
      "Epoch 139/150\n",
      "7000/7000 [==============================] - 1s 139us/sample - loss: 0.3226 - accuracy: 0.8656 - val_loss: 0.3428 - val_accuracy: 0.8630\n",
      "Epoch 140/150\n",
      "7000/7000 [==============================] - 4s 534us/sample - loss: 0.3221 - accuracy: 0.8649 - val_loss: 0.3425 - val_accuracy: 0.8623- accuracy\n",
      "Epoch 141/150\n",
      "7000/7000 [==============================] - 2s 302us/sample - loss: 0.3184 - accuracy: 0.8684 - val_loss: 0.3436 - val_accuracy: 0.8623\n",
      "Epoch 142/150\n",
      "7000/7000 [==============================] - 1s 136us/sample - loss: 0.3254 - accuracy: 0.8636 - val_loss: 0.3437 - val_accuracy: 0.8613\n",
      "Epoch 143/150\n",
      "7000/7000 [==============================] - 1s 133us/sample - loss: 0.3251 - accuracy: 0.8619 - val_loss: 0.3437 - val_accuracy: 0.8593\n",
      "Epoch 144/150\n",
      "7000/7000 [==============================] - 1s 140us/sample - loss: 0.3227 - accuracy: 0.8609 - val_loss: 0.3400 - val_accuracy: 0.8623\n",
      "Epoch 145/150\n",
      "7000/7000 [==============================] - 1s 140us/sample - loss: 0.3230 - accuracy: 0.8650 - val_loss: 0.3456 - val_accuracy: 0.8637\n",
      "Epoch 146/150\n",
      "7000/7000 [==============================] - 1s 140us/sample - loss: 0.3202 - accuracy: 0.8699 - val_loss: 0.3438 - val_accuracy: 0.8600\n",
      "Epoch 147/150\n",
      "7000/7000 [==============================] - 1s 139us/sample - loss: 0.3226 - accuracy: 0.8666 - val_loss: 0.3425 - val_accuracy: 0.8603\n",
      "Epoch 148/150\n",
      "7000/7000 [==============================] - 1s 136us/sample - loss: 0.3263 - accuracy: 0.8671 - val_loss: 0.3447 - val_accuracy: 0.8617\n",
      "Epoch 149/150\n",
      "7000/7000 [==============================] - 1s 138us/sample - loss: 0.3222 - accuracy: 0.8689 - val_loss: 0.3441 - val_accuracy: 0.8637\n",
      "Epoch 150/150\n",
      "7000/7000 [==============================] - 1s 136us/sample - loss: 0.3262 - accuracy: 0.8661 - val_loss: 0.3407 - val_accuracy: 0.8637\n"
     ]
    },
    {
     "data": {
      "text/plain": [
       "<tensorflow.python.keras.callbacks.History at 0x22d304a3a88>"
      ]
     },
     "execution_count": 147,
     "metadata": {},
     "output_type": "execute_result"
    }
   ],
   "source": [
    "model.fit(X_train_array, y_train_array, validation_data=(X_test_array, y_test_array), epochs=150,\n",
    "          batch_size = 32)"
   ]
  },
  {
   "cell_type": "code",
   "execution_count": 149,
   "metadata": {},
   "outputs": [],
   "source": [
    "th=0.5 # Threshold\n",
    "y_test_preds = np.where(model.predict(X_test_array) > th, 1, 0)"
   ]
  },
  {
   "cell_type": "code",
   "execution_count": 150,
   "metadata": {},
   "outputs": [
    {
     "name": "stdout",
     "output_type": "stream",
     "text": [
      "Test Metrics at 0.5 Threshold with  Batch Norm after each hidden layer DNN model\n",
      "\n",
      "           BatchNorm Hidden layers\n",
      "accuracy                  0.863667\n",
      "recall                    0.519008\n",
      "precision                 0.726852\n",
      "f1_score                  0.605593\n"
     ]
    }
   ],
   "source": [
    "print('Test Metrics at 0.5 Threshold with  Batch Norm after each hidden layer DNN model\\n')\n",
    "Test_Metrics_BatchNorm=pd.DataFrame(data=[accuracy_score(y_test, y_test_preds), \n",
    "                   recall_score(y_test_array, y_test_preds), \n",
    "                   precision_score(y_test_array, y_test_preds),\n",
    "                   f1_score(y_test_array, y_test_preds)], columns=['BatchNorm Hidden layers'],\n",
    "             index=[\"accuracy\", \"recall\", \"precision\", \"f1_score\"])\n",
    "print(Test_Metrics_BatchNorm)"
   ]
  },
  {
   "cell_type": "code",
   "execution_count": 151,
   "metadata": {},
   "outputs": [
    {
     "data": {
      "text/plain": [
       "array([[2277,  118],\n",
       "       [ 291,  314]], dtype=int64)"
      ]
     },
     "execution_count": 151,
     "metadata": {},
     "output_type": "execute_result"
    }
   ],
   "source": [
    "# Confusion matrix with optimal Threshold on test set\n",
    "metrics.confusion_matrix(y_test_array, y_test_preds)"
   ]
  },
  {
   "cell_type": "markdown",
   "metadata": {},
   "source": [
    "#### Overall Accuracy, recall and F1 score has improved after adding Batch Normalisation after each hidden layer"
   ]
  },
  {
   "cell_type": "markdown",
   "metadata": {},
   "source": [
    "#### C) Using Weight and Bias initializer"
   ]
  },
  {
   "cell_type": "code",
   "execution_count": 164,
   "metadata": {},
   "outputs": [],
   "source": [
    "from keras import initializers"
   ]
  },
  {
   "cell_type": "code",
   "execution_count": 183,
   "metadata": {},
   "outputs": [],
   "source": [
    "# Initialize Sequential model\n",
    "model = tf.keras.models.Sequential()\n",
    "\n",
    "\n",
    "# Add Input layer to the model\n",
    "model.add(tf.keras.Input(shape=(13,))) # 13 Features\n",
    "\n",
    "\n",
    "# Hidden layers\n",
    "model.add(tf.keras.layers.Dense(13, kernel_initializer='he_normal', bias_initializer='Ones',activation='relu', name='Layer_1'))\n",
    "# Batch Normalization Layer\n",
    "model.add(tf.keras.layers.BatchNormalization())\n",
    "model.add(tf.keras.layers.Dense(13, kernel_initializer='he_normal',bias_initializer='Ones',activation='relu', name='Layer_2'))\n",
    "# Batch Normalization Layer\n",
    "model.add(tf.keras.layers.BatchNormalization())\n",
    "model.add(tf.keras.layers.Dense(10,kernel_initializer='he_normal',bias_initializer='Ones', activation='relu', name='Layer_3'))\n",
    "# Batch Normalization Layer\n",
    "model.add(tf.keras.layers.BatchNormalization())\n",
    "#Output layer\n",
    "model.add(tf.keras.layers.Dense(1, activation='sigmoid', name='Output'))"
   ]
  },
  {
   "cell_type": "code",
   "execution_count": 184,
   "metadata": {},
   "outputs": [],
   "source": [
    "model.compile(optimizer='adam', loss='binary_crossentropy', metrics=['accuracy'])"
   ]
  },
  {
   "cell_type": "code",
   "execution_count": 188,
   "metadata": {},
   "outputs": [
    {
     "name": "stdout",
     "output_type": "stream",
     "text": [
      "Train on 7000 samples, validate on 3000 samples\n",
      "Epoch 1/50\n",
      "7000/7000 [==============================] - 1s 135us/sample - loss: 0.3236 - accuracy: 0.8650 - val_loss: 0.3442 - val_accuracy: 0.8550\n",
      "Epoch 2/50\n",
      "7000/7000 [==============================] - 1s 137us/sample - loss: 0.3197 - accuracy: 0.8726 - val_loss: 0.3462 - val_accuracy: 0.8553\n",
      "Epoch 3/50\n",
      "7000/7000 [==============================] - 1s 137us/sample - loss: 0.3243 - accuracy: 0.8650 - val_loss: 0.3483 - val_accuracy: 0.8563\n",
      "Epoch 4/50\n",
      "7000/7000 [==============================] - 1s 137us/sample - loss: 0.3178 - accuracy: 0.8663 - val_loss: 0.3461 - val_accuracy: 0.8560\n",
      "Epoch 5/50\n",
      "7000/7000 [==============================] - 1s 133us/sample - loss: 0.3202 - accuracy: 0.8667 - val_loss: 0.3496 - val_accuracy: 0.8560\n",
      "Epoch 6/50\n",
      "7000/7000 [==============================] - 1s 137us/sample - loss: 0.3194 - accuracy: 0.8671 - val_loss: 0.3445 - val_accuracy: 0.8563\n",
      "Epoch 7/50\n",
      "7000/7000 [==============================] - 1s 133us/sample - loss: 0.3181 - accuracy: 0.8657 - val_loss: 0.3465 - val_accuracy: 0.8550\n",
      "Epoch 8/50\n",
      "7000/7000 [==============================] - 1s 136us/sample - loss: 0.3213 - accuracy: 0.8696 - val_loss: 0.3465 - val_accuracy: 0.8550\n",
      "Epoch 9/50\n",
      "7000/7000 [==============================] - 1s 135us/sample - loss: 0.3210 - accuracy: 0.8671 - val_loss: 0.3456 - val_accuracy: 0.8543\n",
      "Epoch 10/50\n",
      "7000/7000 [==============================] - 1s 134us/sample - loss: 0.3244 - accuracy: 0.8669 - val_loss: 0.3450 - val_accuracy: 0.8553\n",
      "Epoch 11/50\n",
      "7000/7000 [==============================] - 1s 146us/sample - loss: 0.3249 - accuracy: 0.8681 - val_loss: 0.3451 - val_accuracy: 0.8590\n",
      "Epoch 12/50\n",
      "7000/7000 [==============================] - 1s 140us/sample - loss: 0.3203 - accuracy: 0.8673 - val_loss: 0.3447 - val_accuracy: 0.8607\n",
      "Epoch 13/50\n",
      "7000/7000 [==============================] - 1s 141us/sample - loss: 0.3212 - accuracy: 0.8687 - val_loss: 0.3442 - val_accuracy: 0.8570\n",
      "Epoch 14/50\n",
      "7000/7000 [==============================] - 1s 145us/sample - loss: 0.3238 - accuracy: 0.8653 - val_loss: 0.3426 - val_accuracy: 0.8560\n",
      "Epoch 15/50\n",
      "7000/7000 [==============================] - 1s 139us/sample - loss: 0.3230 - accuracy: 0.8690 - val_loss: 0.3461 - val_accuracy: 0.8553\n",
      "Epoch 16/50\n",
      "7000/7000 [==============================] - 1s 135us/sample - loss: 0.3200 - accuracy: 0.8644 - val_loss: 0.3437 - val_accuracy: 0.8580\n",
      "Epoch 17/50\n",
      "7000/7000 [==============================] - 1s 134us/sample - loss: 0.3203 - accuracy: 0.8706 - val_loss: 0.3459 - val_accuracy: 0.8537\n",
      "Epoch 18/50\n",
      "7000/7000 [==============================] - 1s 135us/sample - loss: 0.3217 - accuracy: 0.8639 - val_loss: 0.3465 - val_accuracy: 0.8577\n",
      "Epoch 19/50\n",
      "7000/7000 [==============================] - 1s 136us/sample - loss: 0.3224 - accuracy: 0.8651 - val_loss: 0.3450 - val_accuracy: 0.8557\n",
      "Epoch 20/50\n",
      "7000/7000 [==============================] - 1s 140us/sample - loss: 0.3192 - accuracy: 0.8667 - val_loss: 0.3448 - val_accuracy: 0.8573\n",
      "Epoch 21/50\n",
      "7000/7000 [==============================] - 1s 135us/sample - loss: 0.3182 - accuracy: 0.8704 - val_loss: 0.3507 - val_accuracy: 0.8520\n",
      "Epoch 22/50\n",
      "7000/7000 [==============================] - 1s 143us/sample - loss: 0.3213 - accuracy: 0.8661 - val_loss: 0.3468 - val_accuracy: 0.8587\n",
      "Epoch 23/50\n",
      "7000/7000 [==============================] - 1s 138us/sample - loss: 0.3177 - accuracy: 0.8716 - val_loss: 0.3446 - val_accuracy: 0.8553\n",
      "Epoch 24/50\n",
      "7000/7000 [==============================] - 1s 129us/sample - loss: 0.3194 - accuracy: 0.8676 - val_loss: 0.3443 - val_accuracy: 0.8577\n",
      "Epoch 25/50\n",
      "7000/7000 [==============================] - 1s 141us/sample - loss: 0.3231 - accuracy: 0.8689 - val_loss: 0.3444 - val_accuracy: 0.8573\n",
      "Epoch 26/50\n",
      "7000/7000 [==============================] - 1s 139us/sample - loss: 0.3222 - accuracy: 0.8700 - val_loss: 0.3447 - val_accuracy: 0.8550\n",
      "Epoch 27/50\n",
      "7000/7000 [==============================] - 1s 136us/sample - loss: 0.3215 - accuracy: 0.8684 - val_loss: 0.3451 - val_accuracy: 0.8583\n",
      "Epoch 28/50\n",
      "7000/7000 [==============================] - 1s 134us/sample - loss: 0.3204 - accuracy: 0.8629 - val_loss: 0.3440 - val_accuracy: 0.8560\n",
      "Epoch 29/50\n",
      "7000/7000 [==============================] - 1s 139us/sample - loss: 0.3214 - accuracy: 0.8656 - val_loss: 0.3448 - val_accuracy: 0.8547\n",
      "Epoch 30/50\n",
      "7000/7000 [==============================] - 1s 136us/sample - loss: 0.3214 - accuracy: 0.8654 - val_loss: 0.3461 - val_accuracy: 0.8560\n",
      "Epoch 31/50\n",
      "7000/7000 [==============================] - 1s 137us/sample - loss: 0.3221 - accuracy: 0.8696 - val_loss: 0.3455 - val_accuracy: 0.8567\n",
      "Epoch 32/50\n",
      "7000/7000 [==============================] - 1s 132us/sample - loss: 0.3199 - accuracy: 0.8689 - val_loss: 0.3433 - val_accuracy: 0.8553\n",
      "Epoch 33/50\n",
      "7000/7000 [==============================] - 1s 137us/sample - loss: 0.3177 - accuracy: 0.8713 - val_loss: 0.3454 - val_accuracy: 0.8543\n",
      "Epoch 34/50\n",
      "7000/7000 [==============================] - 1s 134us/sample - loss: 0.3187 - accuracy: 0.8673 - val_loss: 0.3449 - val_accuracy: 0.8563\n",
      "Epoch 35/50\n",
      "7000/7000 [==============================] - 1s 135us/sample - loss: 0.3155 - accuracy: 0.8699 - val_loss: 0.3472 - val_accuracy: 0.8557\n",
      "Epoch 36/50\n",
      "7000/7000 [==============================] - 1s 138us/sample - loss: 0.3204 - accuracy: 0.8701 - val_loss: 0.3438 - val_accuracy: 0.8583\n",
      "Epoch 37/50\n",
      "7000/7000 [==============================] - 1s 138us/sample - loss: 0.3211 - accuracy: 0.8683 - val_loss: 0.3452 - val_accuracy: 0.8553\n",
      "Epoch 38/50\n",
      "7000/7000 [==============================] - 1s 136us/sample - loss: 0.3211 - accuracy: 0.8649 - val_loss: 0.3465 - val_accuracy: 0.8557\n",
      "Epoch 39/50\n",
      "7000/7000 [==============================] - 1s 138us/sample - loss: 0.3149 - accuracy: 0.8709 - val_loss: 0.3442 - val_accuracy: 0.8563\n",
      "Epoch 40/50\n",
      "7000/7000 [==============================] - 1s 139us/sample - loss: 0.3228 - accuracy: 0.8653 - val_loss: 0.3436 - val_accuracy: 0.8583\n",
      "Epoch 41/50\n",
      "7000/7000 [==============================] - 1s 140us/sample - loss: 0.3179 - accuracy: 0.8701 - val_loss: 0.3443 - val_accuracy: 0.8580\n",
      "Epoch 42/50\n",
      "7000/7000 [==============================] - 1s 139us/sample - loss: 0.3163 - accuracy: 0.8659 - val_loss: 0.3443 - val_accuracy: 0.8550\n",
      "Epoch 43/50\n",
      "7000/7000 [==============================] - 1s 138us/sample - loss: 0.3185 - accuracy: 0.8649 - val_loss: 0.3439 - val_accuracy: 0.8590\n",
      "Epoch 44/50\n",
      "7000/7000 [==============================] - 1s 140us/sample - loss: 0.3228 - accuracy: 0.8681 - val_loss: 0.3440 - val_accuracy: 0.8577\n",
      "Epoch 45/50\n",
      "7000/7000 [==============================] - 1s 142us/sample - loss: 0.3225 - accuracy: 0.8647 - val_loss: 0.3428 - val_accuracy: 0.8607\n",
      "Epoch 46/50\n",
      "7000/7000 [==============================] - 1s 139us/sample - loss: 0.3216 - accuracy: 0.8649 - val_loss: 0.3434 - val_accuracy: 0.8580\n",
      "Epoch 47/50\n",
      "7000/7000 [==============================] - 1s 138us/sample - loss: 0.3198 - accuracy: 0.8666 - val_loss: 0.3446 - val_accuracy: 0.8567\n",
      "Epoch 48/50\n",
      "7000/7000 [==============================] - 1s 138us/sample - loss: 0.3209 - accuracy: 0.8656 - val_loss: 0.3457 - val_accuracy: 0.8593\n",
      "Epoch 49/50\n",
      "7000/7000 [==============================] - 1s 141us/sample - loss: 0.3186 - accuracy: 0.8659 - val_loss: 0.3452 - val_accuracy: 0.8567\n",
      "Epoch 50/50\n",
      "7000/7000 [==============================] - 1s 139us/sample - loss: 0.3204 - accuracy: 0.8700 - val_loss: 0.3451 - val_accuracy: 0.8560\n"
     ]
    },
    {
     "data": {
      "text/plain": [
       "<tensorflow.python.keras.callbacks.History at 0x22d41c49108>"
      ]
     },
     "execution_count": 188,
     "metadata": {},
     "output_type": "execute_result"
    }
   ],
   "source": [
    "model.fit(X_train_array, y_train_array, validation_data=(X_test_array, y_test_array), epochs=50,\n",
    "          batch_size = 32)"
   ]
  },
  {
   "cell_type": "code",
   "execution_count": 191,
   "metadata": {},
   "outputs": [],
   "source": [
    "th=0.5 # Threshold\n",
    "y_test_preds = np.where(model.predict(X_test_array) > th, 1, 0)"
   ]
  },
  {
   "cell_type": "code",
   "execution_count": 192,
   "metadata": {},
   "outputs": [
    {
     "name": "stdout",
     "output_type": "stream",
     "text": [
      "Test Metrics at 0.5 Threshold withv Weight and Bias initialization &  Batch Norm after each hidden layer DNN model\n",
      "\n",
      "           Weight Initialize\n",
      "accuracy            0.856000\n",
      "recall              0.447934\n",
      "precision           0.734417\n",
      "f1_score            0.556468\n"
     ]
    }
   ],
   "source": [
    "print('Test Metrics at 0.5 Threshold withv Weight and Bias initialization &  Batch Norm after each hidden layer DNN model\\n')\n",
    "Test_Metrics_Weight_Init=pd.DataFrame(data=[accuracy_score(y_test, y_test_preds), \n",
    "                   recall_score(y_test_array, y_test_preds), \n",
    "                   precision_score(y_test_array, y_test_preds),\n",
    "                   f1_score(y_test_array, y_test_preds)], columns=['Weight Initialize'],\n",
    "             index=[\"accuracy\", \"recall\", \"precision\", \"f1_score\"])\n",
    "print(Test_Metrics_Weight_Init)"
   ]
  },
  {
   "cell_type": "code",
   "execution_count": 193,
   "metadata": {},
   "outputs": [
    {
     "data": {
      "text/plain": [
       "array([[2297,   98],\n",
       "       [ 334,  271]], dtype=int64)"
      ]
     },
     "execution_count": 193,
     "metadata": {},
     "output_type": "execute_result"
    }
   ],
   "source": [
    "# Confusion matrix with optimal Threshold on test set\n",
    "metrics.confusion_matrix(y_test_array, y_test_preds)"
   ]
  },
  {
   "cell_type": "markdown",
   "metadata": {},
   "source": [
    "#### Accuracy has dropped"
   ]
  },
  {
   "cell_type": "markdown",
   "metadata": {},
   "source": [
    "#### D) Apply Dropout"
   ]
  },
  {
   "cell_type": "code",
   "execution_count": 206,
   "metadata": {},
   "outputs": [],
   "source": [
    "# Initialize Sequential model\n",
    "model = tf.keras.models.Sequential()\n",
    "\n",
    "\n",
    "# Add Input layer to the model\n",
    "model.add(tf.keras.Input(shape=(13,))) # 13 Features\n",
    "\n",
    "\n",
    "# Hidden layers\n",
    "model.add(tf.keras.layers.Dense(13, activation='relu', name='Layer_1'))\n",
    "model.add(tf.keras.layers.Dense(13, activation='relu', name='Layer_2'))\n",
    "\n",
    "# Dropout layer\n",
    "model.add(tf.keras.layers.Dropout(0.5))\n",
    "\n",
    "# Hidden layers\n",
    "model.add(tf.keras.layers.Dense(10, activation='relu', name='Layer_3'))\n",
    "\n",
    "\n",
    "# Dropout layer\n",
    "model.add(tf.keras.layers.Dropout(0.3))\n",
    "\n",
    "#Output layer\n",
    "model.add(tf.keras.layers.Dense(1, activation='sigmoid', name='Output'))"
   ]
  },
  {
   "cell_type": "code",
   "execution_count": 207,
   "metadata": {},
   "outputs": [],
   "source": [
    "model.compile(optimizer='adam', loss='binary_crossentropy', metrics=['accuracy'])"
   ]
  },
  {
   "cell_type": "code",
   "execution_count": 208,
   "metadata": {},
   "outputs": [
    {
     "name": "stdout",
     "output_type": "stream",
     "text": [
      "Model: \"sequential_36\"\n",
      "_________________________________________________________________\n",
      "Layer (type)                 Output Shape              Param #   \n",
      "=================================================================\n",
      "Layer_1 (Dense)              (None, 13)                182       \n",
      "_________________________________________________________________\n",
      "Layer_2 (Dense)              (None, 13)                182       \n",
      "_________________________________________________________________\n",
      "dropout_8 (Dropout)          (None, 13)                0         \n",
      "_________________________________________________________________\n",
      "Layer_3 (Dense)              (None, 10)                140       \n",
      "_________________________________________________________________\n",
      "dropout_9 (Dropout)          (None, 10)                0         \n",
      "_________________________________________________________________\n",
      "Output (Dense)               (None, 1)                 11        \n",
      "=================================================================\n",
      "Total params: 515\n",
      "Trainable params: 515\n",
      "Non-trainable params: 0\n",
      "_________________________________________________________________\n"
     ]
    }
   ],
   "source": [
    "model.summary()"
   ]
  },
  {
   "cell_type": "code",
   "execution_count": 209,
   "metadata": {},
   "outputs": [
    {
     "name": "stdout",
     "output_type": "stream",
     "text": [
      "Train on 7000 samples, validate on 3000 samples\n",
      "Epoch 1/100\n",
      "7000/7000 [==============================] - 2s 300us/sample - loss: 0.6138 - accuracy: 0.7003 - val_loss: 0.4826 - val_accuracy: 0.7983\n",
      "Epoch 2/100\n",
      "7000/7000 [==============================] - 1s 104us/sample - loss: 0.5083 - accuracy: 0.7936 - val_loss: 0.4481 - val_accuracy: 0.7983\n",
      "Epoch 3/100\n",
      "7000/7000 [==============================] - 1s 106us/sample - loss: 0.4786 - accuracy: 0.7967 - val_loss: 0.4343 - val_accuracy: 0.8000\n",
      "Epoch 4/100\n",
      "7000/7000 [==============================] - 1s 106us/sample - loss: 0.4637 - accuracy: 0.8004 - val_loss: 0.4191 - val_accuracy: 0.8090\n",
      "Epoch 5/100\n",
      "7000/7000 [==============================] - 1s 104us/sample - loss: 0.4467 - accuracy: 0.8049 - val_loss: 0.4059 - val_accuracy: 0.8180\n",
      "Epoch 6/100\n",
      "7000/7000 [==============================] - 1s 103us/sample - loss: 0.4366 - accuracy: 0.8103 - val_loss: 0.3893 - val_accuracy: 0.8240\n",
      "Epoch 7/100\n",
      "7000/7000 [==============================] - 1s 105us/sample - loss: 0.4136 - accuracy: 0.8231 - val_loss: 0.3726 - val_accuracy: 0.8383\n",
      "Epoch 8/100\n",
      "7000/7000 [==============================] - 1s 106us/sample - loss: 0.4119 - accuracy: 0.8254 - val_loss: 0.3695 - val_accuracy: 0.8493\n",
      "Epoch 9/100\n",
      "7000/7000 [==============================] - 1s 104us/sample - loss: 0.4034 - accuracy: 0.8293 - val_loss: 0.3642 - val_accuracy: 0.8493\n",
      "Epoch 10/100\n",
      "7000/7000 [==============================] - 1s 120us/sample - loss: 0.3964 - accuracy: 0.8329 - val_loss: 0.3631 - val_accuracy: 0.8490\n",
      "Epoch 11/100\n",
      "7000/7000 [==============================] - 1s 119us/sample - loss: 0.3893 - accuracy: 0.8364 - val_loss: 0.3599 - val_accuracy: 0.8513\n",
      "Epoch 12/100\n",
      "7000/7000 [==============================] - 1s 110us/sample - loss: 0.3855 - accuracy: 0.8369 - val_loss: 0.3599 - val_accuracy: 0.8520\n",
      "Epoch 13/100\n",
      "7000/7000 [==============================] - 1s 110us/sample - loss: 0.3865 - accuracy: 0.8344 - val_loss: 0.3581 - val_accuracy: 0.8530\n",
      "Epoch 14/100\n",
      "7000/7000 [==============================] - 1s 106us/sample - loss: 0.3842 - accuracy: 0.8409 - val_loss: 0.3563 - val_accuracy: 0.8557\n",
      "Epoch 15/100\n",
      "7000/7000 [==============================] - 1s 114us/sample - loss: 0.3787 - accuracy: 0.8393 - val_loss: 0.3569 - val_accuracy: 0.8553\n",
      "Epoch 16/100\n",
      "7000/7000 [==============================] - 1s 110us/sample - loss: 0.3791 - accuracy: 0.8421 - val_loss: 0.3544 - val_accuracy: 0.8560\n",
      "Epoch 17/100\n",
      "7000/7000 [==============================] - 1s 103us/sample - loss: 0.3750 - accuracy: 0.8429 - val_loss: 0.3535 - val_accuracy: 0.8597\n",
      "Epoch 18/100\n",
      "7000/7000 [==============================] - 1s 111us/sample - loss: 0.3759 - accuracy: 0.8437 - val_loss: 0.3544 - val_accuracy: 0.8583\n",
      "Epoch 19/100\n",
      "7000/7000 [==============================] - 1s 109us/sample - loss: 0.3711 - accuracy: 0.8476 - val_loss: 0.3543 - val_accuracy: 0.8557\n",
      "Epoch 20/100\n",
      "7000/7000 [==============================] - 1s 112us/sample - loss: 0.3740 - accuracy: 0.8441 - val_loss: 0.3514 - val_accuracy: 0.8597\n",
      "Epoch 21/100\n",
      "7000/7000 [==============================] - 1s 114us/sample - loss: 0.3747 - accuracy: 0.8463 - val_loss: 0.3524 - val_accuracy: 0.8583\n",
      "Epoch 22/100\n",
      "7000/7000 [==============================] - 1s 109us/sample - loss: 0.3641 - accuracy: 0.8523 - val_loss: 0.3503 - val_accuracy: 0.8597\n",
      "Epoch 23/100\n",
      "7000/7000 [==============================] - 1s 113us/sample - loss: 0.3696 - accuracy: 0.8473 - val_loss: 0.3500 - val_accuracy: 0.8570\n",
      "Epoch 24/100\n",
      "7000/7000 [==============================] - 1s 110us/sample - loss: 0.3703 - accuracy: 0.8454 - val_loss: 0.3490 - val_accuracy: 0.8593\n",
      "Epoch 25/100\n",
      "7000/7000 [==============================] - 1s 104us/sample - loss: 0.3669 - accuracy: 0.8473 - val_loss: 0.3500 - val_accuracy: 0.8580\n",
      "Epoch 26/100\n",
      "7000/7000 [==============================] - 1s 107us/sample - loss: 0.3669 - accuracy: 0.8494 - val_loss: 0.3497 - val_accuracy: 0.8593\n",
      "Epoch 27/100\n",
      "7000/7000 [==============================] - 1s 109us/sample - loss: 0.3666 - accuracy: 0.8471 - val_loss: 0.3498 - val_accuracy: 0.8597\n",
      "Epoch 28/100\n",
      "7000/7000 [==============================] - 1s 110us/sample - loss: 0.3659 - accuracy: 0.8451 - val_loss: 0.3490 - val_accuracy: 0.8583\n",
      "Epoch 29/100\n",
      "7000/7000 [==============================] - 1s 108us/sample - loss: 0.3671 - accuracy: 0.8479 - val_loss: 0.3492 - val_accuracy: 0.8587\n",
      "Epoch 30/100\n",
      "7000/7000 [==============================] - 1s 108us/sample - loss: 0.3635 - accuracy: 0.8509 - val_loss: 0.3465 - val_accuracy: 0.8593\n",
      "Epoch 31/100\n",
      "7000/7000 [==============================] - 1s 107us/sample - loss: 0.3642 - accuracy: 0.8481 - val_loss: 0.3463 - val_accuracy: 0.8610\n",
      "Epoch 32/100\n",
      "7000/7000 [==============================] - 1s 100us/sample - loss: 0.3592 - accuracy: 0.8497 - val_loss: 0.3453 - val_accuracy: 0.8593\n",
      "Epoch 33/100\n",
      "7000/7000 [==============================] - 1s 107us/sample - loss: 0.3605 - accuracy: 0.8533 - val_loss: 0.3468 - val_accuracy: 0.8590\n",
      "Epoch 34/100\n",
      "7000/7000 [==============================] - 1s 102us/sample - loss: 0.3619 - accuracy: 0.8524 - val_loss: 0.3482 - val_accuracy: 0.8587\n",
      "Epoch 35/100\n",
      "7000/7000 [==============================] - 1s 111us/sample - loss: 0.3611 - accuracy: 0.8519 - val_loss: 0.3449 - val_accuracy: 0.8627\n",
      "Epoch 36/100\n",
      "7000/7000 [==============================] - 1s 104us/sample - loss: 0.3610 - accuracy: 0.8516 - val_loss: 0.3452 - val_accuracy: 0.8597\n",
      "Epoch 37/100\n",
      "7000/7000 [==============================] - 1s 106us/sample - loss: 0.3627 - accuracy: 0.8517 - val_loss: 0.3449 - val_accuracy: 0.8603\n",
      "Epoch 38/100\n",
      "7000/7000 [==============================] - 1s 108us/sample - loss: 0.3583 - accuracy: 0.8527 - val_loss: 0.3442 - val_accuracy: 0.8603\n",
      "Epoch 39/100\n",
      "7000/7000 [==============================] - 1s 112us/sample - loss: 0.3596 - accuracy: 0.8557 - val_loss: 0.3459 - val_accuracy: 0.8613\n",
      "Epoch 40/100\n",
      "7000/7000 [==============================] - 1s 113us/sample - loss: 0.3567 - accuracy: 0.8560 - val_loss: 0.3432 - val_accuracy: 0.8597\n",
      "Epoch 41/100\n",
      "7000/7000 [==============================] - 1s 110us/sample - loss: 0.3564 - accuracy: 0.8557 - val_loss: 0.3439 - val_accuracy: 0.8597\n",
      "Epoch 42/100\n",
      "7000/7000 [==============================] - 1s 113us/sample - loss: 0.3592 - accuracy: 0.8511 - val_loss: 0.3416 - val_accuracy: 0.8650\n",
      "Epoch 43/100\n",
      "7000/7000 [==============================] - 1s 113us/sample - loss: 0.3556 - accuracy: 0.8541 - val_loss: 0.3420 - val_accuracy: 0.8597\n",
      "Epoch 44/100\n",
      "7000/7000 [==============================] - 1s 113us/sample - loss: 0.3556 - accuracy: 0.8590 - val_loss: 0.3417 - val_accuracy: 0.8617\n",
      "Epoch 45/100\n",
      "7000/7000 [==============================] - 1s 111us/sample - loss: 0.3589 - accuracy: 0.8561 - val_loss: 0.3425 - val_accuracy: 0.8610\n",
      "Epoch 46/100\n",
      "7000/7000 [==============================] - 1s 111us/sample - loss: 0.3536 - accuracy: 0.8553 - val_loss: 0.3416 - val_accuracy: 0.8610\n",
      "Epoch 47/100\n",
      "7000/7000 [==============================] - 1s 110us/sample - loss: 0.3564 - accuracy: 0.8551 - val_loss: 0.3407 - val_accuracy: 0.8633\n",
      "Epoch 48/100\n",
      "7000/7000 [==============================] - 1s 112us/sample - loss: 0.3531 - accuracy: 0.8569 - val_loss: 0.3418 - val_accuracy: 0.8620\n",
      "Epoch 49/100\n",
      "7000/7000 [==============================] - 1s 112us/sample - loss: 0.3587 - accuracy: 0.8534 - val_loss: 0.3413 - val_accuracy: 0.8620\n",
      "Epoch 50/100\n",
      "7000/7000 [==============================] - 1s 112us/sample - loss: 0.3556 - accuracy: 0.8549 - val_loss: 0.3428 - val_accuracy: 0.8607\n",
      "Epoch 51/100\n",
      "7000/7000 [==============================] - 1s 111us/sample - loss: 0.3582 - accuracy: 0.8580 - val_loss: 0.3407 - val_accuracy: 0.8617\n",
      "Epoch 52/100\n",
      "7000/7000 [==============================] - 1s 112us/sample - loss: 0.3518 - accuracy: 0.8554 - val_loss: 0.3410 - val_accuracy: 0.8633\n",
      "Epoch 53/100\n",
      "7000/7000 [==============================] - 1s 112us/sample - loss: 0.3535 - accuracy: 0.8543 - val_loss: 0.3404 - val_accuracy: 0.8623\n",
      "Epoch 54/100\n",
      "7000/7000 [==============================] - 1s 116us/sample - loss: 0.3537 - accuracy: 0.8554 - val_loss: 0.3409 - val_accuracy: 0.8613\n",
      "Epoch 55/100\n",
      "7000/7000 [==============================] - 1s 109us/sample - loss: 0.3547 - accuracy: 0.8584 - val_loss: 0.3421 - val_accuracy: 0.8640\n",
      "Epoch 56/100\n",
      "7000/7000 [==============================] - 1s 108us/sample - loss: 0.3557 - accuracy: 0.8559 - val_loss: 0.3404 - val_accuracy: 0.8613\n",
      "Epoch 57/100\n",
      "7000/7000 [==============================] - 1s 114us/sample - loss: 0.3506 - accuracy: 0.8537 - val_loss: 0.3400 - val_accuracy: 0.8623\n",
      "Epoch 58/100\n",
      "7000/7000 [==============================] - 1s 109us/sample - loss: 0.3508 - accuracy: 0.8587 - val_loss: 0.3416 - val_accuracy: 0.8637\n",
      "Epoch 59/100\n",
      "7000/7000 [==============================] - 1s 112us/sample - loss: 0.3535 - accuracy: 0.8559 - val_loss: 0.3416 - val_accuracy: 0.8623\n",
      "Epoch 60/100\n",
      "7000/7000 [==============================] - 1s 112us/sample - loss: 0.3546 - accuracy: 0.8549 - val_loss: 0.3429 - val_accuracy: 0.8647\n",
      "Epoch 61/100\n",
      "7000/7000 [==============================] - 1s 110us/sample - loss: 0.3510 - accuracy: 0.8569 - val_loss: 0.3409 - val_accuracy: 0.8617\n",
      "Epoch 62/100\n",
      "7000/7000 [==============================] - 1s 112us/sample - loss: 0.3511 - accuracy: 0.8553 - val_loss: 0.3412 - val_accuracy: 0.8617\n",
      "Epoch 63/100\n",
      "7000/7000 [==============================] - 1s 111us/sample - loss: 0.3525 - accuracy: 0.8556 - val_loss: 0.3404 - val_accuracy: 0.8613\n",
      "Epoch 64/100\n",
      "7000/7000 [==============================] - 1s 112us/sample - loss: 0.3489 - accuracy: 0.8570 - val_loss: 0.3410 - val_accuracy: 0.8637\n",
      "Epoch 65/100\n",
      "7000/7000 [==============================] - 1s 107us/sample - loss: 0.3508 - accuracy: 0.8563 - val_loss: 0.3406 - val_accuracy: 0.8593\n",
      "Epoch 66/100\n",
      "7000/7000 [==============================] - 1s 113us/sample - loss: 0.3527 - accuracy: 0.8576 - val_loss: 0.3432 - val_accuracy: 0.8643\n",
      "Epoch 67/100\n",
      "7000/7000 [==============================] - 1s 107us/sample - loss: 0.3546 - accuracy: 0.8526 - val_loss: 0.3405 - val_accuracy: 0.8600\n",
      "Epoch 68/100\n",
      "7000/7000 [==============================] - 1s 107us/sample - loss: 0.3509 - accuracy: 0.8576 - val_loss: 0.3413 - val_accuracy: 0.8613\n",
      "Epoch 69/100\n",
      "7000/7000 [==============================] - 1s 106us/sample - loss: 0.3533 - accuracy: 0.8553 - val_loss: 0.3414 - val_accuracy: 0.8600\n",
      "Epoch 70/100\n",
      "7000/7000 [==============================] - 1s 110us/sample - loss: 0.3614 - accuracy: 0.8523 - val_loss: 0.3405 - val_accuracy: 0.8597\n",
      "Epoch 71/100\n",
      "7000/7000 [==============================] - 1s 111us/sample - loss: 0.3492 - accuracy: 0.8566 - val_loss: 0.3388 - val_accuracy: 0.8617\n",
      "Epoch 72/100\n",
      "7000/7000 [==============================] - 1s 112us/sample - loss: 0.3553 - accuracy: 0.8554 - val_loss: 0.3400 - val_accuracy: 0.8647\n",
      "Epoch 73/100\n",
      "7000/7000 [==============================] - 1s 112us/sample - loss: 0.3538 - accuracy: 0.8561 - val_loss: 0.3394 - val_accuracy: 0.8613\n",
      "Epoch 74/100\n",
      "7000/7000 [==============================] - 1s 109us/sample - loss: 0.3547 - accuracy: 0.8566 - val_loss: 0.3402 - val_accuracy: 0.8627\n",
      "Epoch 75/100\n",
      "7000/7000 [==============================] - 1s 115us/sample - loss: 0.3542 - accuracy: 0.8556 - val_loss: 0.3401 - val_accuracy: 0.8633\n",
      "Epoch 76/100\n",
      "7000/7000 [==============================] - 1s 109us/sample - loss: 0.3501 - accuracy: 0.8610 - val_loss: 0.3413 - val_accuracy: 0.8640\n",
      "Epoch 77/100\n",
      "7000/7000 [==============================] - 1s 111us/sample - loss: 0.3537 - accuracy: 0.8567 - val_loss: 0.3388 - val_accuracy: 0.8593\n",
      "Epoch 78/100\n",
      "7000/7000 [==============================] - 1s 111us/sample - loss: 0.3533 - accuracy: 0.8564 - val_loss: 0.3422 - val_accuracy: 0.8627\n",
      "Epoch 79/100\n",
      "7000/7000 [==============================] - 1s 109us/sample - loss: 0.3558 - accuracy: 0.8564 - val_loss: 0.3399 - val_accuracy: 0.8620\n",
      "Epoch 80/100\n",
      "7000/7000 [==============================] - 1s 112us/sample - loss: 0.3514 - accuracy: 0.8583 - val_loss: 0.3398 - val_accuracy: 0.8623\n",
      "Epoch 81/100\n",
      "7000/7000 [==============================] - 1s 106us/sample - loss: 0.3501 - accuracy: 0.8570 - val_loss: 0.3415 - val_accuracy: 0.8630\n",
      "Epoch 82/100\n",
      "7000/7000 [==============================] - 1s 109us/sample - loss: 0.3465 - accuracy: 0.8576 - val_loss: 0.3413 - val_accuracy: 0.8647\n",
      "Epoch 83/100\n",
      "7000/7000 [==============================] - 1s 117us/sample - loss: 0.3512 - accuracy: 0.8577 - val_loss: 0.3392 - val_accuracy: 0.8623\n",
      "Epoch 84/100\n",
      "7000/7000 [==============================] - 1s 108us/sample - loss: 0.3501 - accuracy: 0.8579 - val_loss: 0.3395 - val_accuracy: 0.8657\n",
      "Epoch 85/100\n",
      "7000/7000 [==============================] - 1s 112us/sample - loss: 0.3509 - accuracy: 0.8579 - val_loss: 0.3382 - val_accuracy: 0.8633\n",
      "Epoch 86/100\n",
      "7000/7000 [==============================] - 1s 112us/sample - loss: 0.3539 - accuracy: 0.8553 - val_loss: 0.3389 - val_accuracy: 0.8633\n",
      "Epoch 87/100\n",
      "7000/7000 [==============================] - 1s 112us/sample - loss: 0.3478 - accuracy: 0.8580 - val_loss: 0.3383 - val_accuracy: 0.8620\n",
      "Epoch 88/100\n",
      "7000/7000 [==============================] - 1s 112us/sample - loss: 0.3450 - accuracy: 0.8606 - val_loss: 0.3398 - val_accuracy: 0.8637\n",
      "Epoch 89/100\n",
      "7000/7000 [==============================] - 1s 107us/sample - loss: 0.3535 - accuracy: 0.8579 - val_loss: 0.3410 - val_accuracy: 0.8643\n",
      "Epoch 90/100\n",
      "7000/7000 [==============================] - 1s 112us/sample - loss: 0.3529 - accuracy: 0.8551 - val_loss: 0.3383 - val_accuracy: 0.8653\n",
      "Epoch 91/100\n",
      "7000/7000 [==============================] - 1s 113us/sample - loss: 0.3473 - accuracy: 0.8576 - val_loss: 0.3385 - val_accuracy: 0.8613\n",
      "Epoch 92/100\n",
      "7000/7000 [==============================] - 1s 111us/sample - loss: 0.3505 - accuracy: 0.8547 - val_loss: 0.3387 - val_accuracy: 0.8653\n",
      "Epoch 93/100\n",
      "7000/7000 [==============================] - 1s 112us/sample - loss: 0.3518 - accuracy: 0.8573 - val_loss: 0.3396 - val_accuracy: 0.8637\n",
      "Epoch 94/100\n",
      "7000/7000 [==============================] - 1s 112us/sample - loss: 0.3520 - accuracy: 0.8566 - val_loss: 0.3391 - val_accuracy: 0.8630\n",
      "Epoch 95/100\n",
      "7000/7000 [==============================] - 1s 111us/sample - loss: 0.3515 - accuracy: 0.8557 - val_loss: 0.3413 - val_accuracy: 0.8650\n",
      "Epoch 96/100\n",
      "7000/7000 [==============================] - 1s 113us/sample - loss: 0.3461 - accuracy: 0.8577 - val_loss: 0.3387 - val_accuracy: 0.8640\n",
      "Epoch 97/100\n",
      "7000/7000 [==============================] - 1s 113us/sample - loss: 0.3516 - accuracy: 0.8550 - val_loss: 0.3411 - val_accuracy: 0.8643\n",
      "Epoch 98/100\n",
      "7000/7000 [==============================] - 1s 110us/sample - loss: 0.3508 - accuracy: 0.8577 - val_loss: 0.3382 - val_accuracy: 0.8657\n",
      "Epoch 99/100\n",
      "7000/7000 [==============================] - 1s 112us/sample - loss: 0.3495 - accuracy: 0.8573 - val_loss: 0.3387 - val_accuracy: 0.8630\n",
      "Epoch 100/100\n",
      "7000/7000 [==============================] - 1s 111us/sample - loss: 0.3517 - accuracy: 0.8596 - val_loss: 0.3373 - val_accuracy: 0.8633\n"
     ]
    },
    {
     "data": {
      "text/plain": [
       "<tensorflow.python.keras.callbacks.History at 0x22d448779c8>"
      ]
     },
     "execution_count": 209,
     "metadata": {},
     "output_type": "execute_result"
    }
   ],
   "source": [
    "model.fit(X_train_array, y_train_array, validation_data=(X_test_array, y_test_array), epochs=100,\n",
    "          batch_size = 32)"
   ]
  },
  {
   "cell_type": "code",
   "execution_count": 211,
   "metadata": {},
   "outputs": [],
   "source": [
    "th=0.5 # Threshold\n",
    "y_test_preds = np.where(model.predict(X_test_array) > th, 1, 0)"
   ]
  },
  {
   "cell_type": "code",
   "execution_count": 212,
   "metadata": {},
   "outputs": [
    {
     "name": "stdout",
     "output_type": "stream",
     "text": [
      "Test Metrics at 0.5 Threshold Dropout DNN model\n",
      "\n",
      "            DropOut\n",
      "accuracy   0.863333\n",
      "recall     0.444628\n",
      "precision  0.784257\n",
      "f1_score   0.567511\n"
     ]
    }
   ],
   "source": [
    "print('Test Metrics at 0.5 Threshold Dropout DNN model\\n')\n",
    "Test_Metrics_DropOut=pd.DataFrame(data=[accuracy_score(y_test, y_test_preds), \n",
    "                   recall_score(y_test_array, y_test_preds), \n",
    "                   precision_score(y_test_array, y_test_preds),\n",
    "                   f1_score(y_test_array, y_test_preds)], columns=['DropOut'],\n",
    "             index=[\"accuracy\", \"recall\", \"precision\", \"f1_score\"])\n",
    "print(Test_Metrics_DropOut)"
   ]
  },
  {
   "cell_type": "code",
   "execution_count": 213,
   "metadata": {},
   "outputs": [
    {
     "data": {
      "text/plain": [
       "array([[2321,   74],\n",
       "       [ 336,  269]], dtype=int64)"
      ]
     },
     "execution_count": 213,
     "metadata": {},
     "output_type": "execute_result"
    }
   ],
   "source": [
    "# Confusion matrix with optimal Threshold on test set\n",
    "metrics.confusion_matrix(y_test_array, y_test_preds)"
   ]
  },
  {
   "cell_type": "markdown",
   "metadata": {},
   "source": [
    "#### Still Accuracy has not improved "
   ]
  },
  {
   "cell_type": "markdown",
   "metadata": {},
   "source": [
    "### MODEL COMPARISON"
   ]
  },
  {
   "cell_type": "code",
   "execution_count": 226,
   "metadata": {},
   "outputs": [
    {
     "data": {
      "text/html": [
       "<div>\n",
       "<style scoped>\n",
       "    .dataframe tbody tr th:only-of-type {\n",
       "        vertical-align: middle;\n",
       "    }\n",
       "\n",
       "    .dataframe tbody tr th {\n",
       "        vertical-align: top;\n",
       "    }\n",
       "\n",
       "    .dataframe thead th {\n",
       "        text-align: right;\n",
       "    }\n",
       "</style>\n",
       "<table border=\"1\" class=\"dataframe\">\n",
       "  <thead>\n",
       "    <tr style=\"text-align: right;\">\n",
       "      <th></th>\n",
       "      <th>Basic DNN</th>\n",
       "      <th>3 Hidden Layer DNN</th>\n",
       "      <th>BatchNorm Hidden layers</th>\n",
       "      <th>Weight Initialize</th>\n",
       "      <th>DropOut</th>\n",
       "    </tr>\n",
       "  </thead>\n",
       "  <tbody>\n",
       "    <tr>\n",
       "      <th>accuracy</th>\n",
       "      <td>0.860000</td>\n",
       "      <td>0.858667</td>\n",
       "      <td>0.863667</td>\n",
       "      <td>0.856000</td>\n",
       "      <td>0.863333</td>\n",
       "    </tr>\n",
       "    <tr>\n",
       "      <th>recall</th>\n",
       "      <td>0.495868</td>\n",
       "      <td>0.452893</td>\n",
       "      <td>0.519008</td>\n",
       "      <td>0.447934</td>\n",
       "      <td>0.444628</td>\n",
       "    </tr>\n",
       "    <tr>\n",
       "      <th>precision</th>\n",
       "      <td>0.722892</td>\n",
       "      <td>0.746594</td>\n",
       "      <td>0.726852</td>\n",
       "      <td>0.734417</td>\n",
       "      <td>0.784257</td>\n",
       "    </tr>\n",
       "    <tr>\n",
       "      <th>f1_score</th>\n",
       "      <td>0.588235</td>\n",
       "      <td>0.563786</td>\n",
       "      <td>0.605593</td>\n",
       "      <td>0.556468</td>\n",
       "      <td>0.567511</td>\n",
       "    </tr>\n",
       "  </tbody>\n",
       "</table>\n",
       "</div>"
      ],
      "text/plain": [
       "           Basic DNN  3 Hidden Layer DNN  BatchNorm Hidden layers  \\\n",
       "accuracy    0.860000            0.858667                 0.863667   \n",
       "recall      0.495868            0.452893                 0.519008   \n",
       "precision   0.722892            0.746594                 0.726852   \n",
       "f1_score    0.588235            0.563786                 0.605593   \n",
       "\n",
       "           Weight Initialize   DropOut  \n",
       "accuracy            0.856000  0.863333  \n",
       "recall              0.447934  0.444628  \n",
       "precision           0.734417  0.784257  \n",
       "f1_score            0.556468  0.567511  "
      ]
     },
     "execution_count": 226,
     "metadata": {},
     "output_type": "execute_result"
    }
   ],
   "source": [
    "Model_Comparison_df=Test_Metrics_Basic_DNN\n",
    "Model_Comparison_df['3 Hidden Layer DNN']=Test_Metrics_3_HiddenLayer_DNN['3 Hidden Layer DNN']\n",
    "Model_Comparison_df['BatchNorm Hidden layers']=Test_Metrics_BatchNorm['BatchNorm Hidden layers']\n",
    "Model_Comparison_df['Weight Initialize']=Test_Metrics_Weight_Init['Weight Initialize']\n",
    "Model_Comparison_df['DropOut']=Test_Metrics_DropOut['DropOut']\n",
    "#Model_Comparison_df['Naive Bayes']=Naive_Bayes_metrics['Naive Bayes']\n",
    "Model_Comparison_df"
   ]
  },
  {
   "cell_type": "markdown",
   "metadata": {},
   "source": [
    "##### Among the models tried above Model with bath normalization after each hidden layer gives best Accurracy and F1 score"
   ]
  }
 ],
 "metadata": {
  "kernelspec": {
   "display_name": "Python 3.7 (tensorflow)",
   "language": "python",
   "name": "tensorflow"
  },
  "language_info": {
   "codemirror_mode": {
    "name": "ipython",
    "version": 3
   },
   "file_extension": ".py",
   "mimetype": "text/x-python",
   "name": "python",
   "nbconvert_exporter": "python",
   "pygments_lexer": "ipython3",
   "version": "3.7.6"
  }
 },
 "nbformat": 4,
 "nbformat_minor": 4
}
